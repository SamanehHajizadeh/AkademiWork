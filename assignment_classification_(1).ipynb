{
  "cells": [
    {
      "cell_type": "markdown",
      "metadata": {
        "id": "view-in-github",
        "colab_type": "text"
      },
      "source": [
        "<a href=\"https://colab.research.google.com/github/SamanehHajizadeh/AkademiWork/blob/main/assignment_classification_(1).ipynb\" target=\"_parent\"><img src=\"https://colab.research.google.com/assets/colab-badge.svg\" alt=\"Open In Colab\"/></a>"
      ]
    },
    {
      "cell_type": "markdown",
      "metadata": {
        "id": "ePLSo3ldhbMO"
      },
      "source": [
        "# Assignment: Classification of Handwritten Digits\n",
        "\n",
        "In this assignment, we will use the $k$-nearest neighbour classifier and a dense neural network (multilayer perceptron) to classify handwritten digits from the MNIST dataset (http://yann.lecun.com/exdb/mnist/).\n",
        "\n"
      ]
    },
    {
      "cell_type": "markdown",
      "metadata": {
        "id": "ZBze6CRBsFs0"
      },
      "source": [
        "## Working together\n",
        "\n",
        "The assignment should be solved in **groups of two**. Copying code from other students, the Internet, or other sources is not allowed (the provided helper code excluded). If you want to work alone, you must have a compelling reason (that convinces us) for doing so."
      ]
    },
    {
      "cell_type": "markdown",
      "metadata": {
        "id": "4ZjTiT1_scVa"
      },
      "source": [
        "## Task\n",
        "\n",
        "You are given a dataset of images of handwritten digits (0 through 9) and the correct answers to train your machine learning models on.\n",
        "\n",
        "You need to divide the images into a training data set, (optionally) a validation data set, and a test set. You may also use cross-validation instead of a validation data set.\n",
        "\n",
        "After training, and after selecting the proper hyper-parameters (the number of neighbors, $k$, the number of layers, the number of neurons, *etc.*), classify the images in the test set to see how accurately your models classify unknown images. **Note**: You should *never* use, look at, or classify the test set until you have selected your final model. You are *not* allowed to continue training or do any model alterations after you have evaluated your models on the test data set.\n",
        "\n",
        "**In order to pass the assignment your solution must correctly classify at least 94 % of the *validation data set images* with the $k$-NN model and at least 97.7 % of the *validation data set images* with the neural network model.**"
      ]
    },
    {
      "cell_type": "markdown",
      "metadata": {
        "id": "EMtJ5wZvB0Ya"
      },
      "source": [
        "## What to hand in\n",
        "\n",
        "You should hand in a complete and well-written report (in `pdf` format) together with your Jupyter notebook electronically in Labres. Only one member per group hands in and marks the other member. **Note**: you cannot change group members after the first hand-in, so make sure you do it correct the first time.\n",
        "\n",
        "The report may be brief (try to keep it under 5 pages) but it is important that you fulfill the following requirements:\n",
        "\n",
        " * The report must have a title page including names and user names (@cs) for all group members, course name, and assignment name.\n",
        " * The report should be as short as possible and as long as necessary. If your report exceeds five pages (incl. the title page), chances are that you are doing something wrong.\n",
        " * Describe how your solution works on a level that does not lose interesting details. Divide the report into two parts (one for $k$-NN, the other for the neural network), and split each part into *implementation*, *results*, and *discussion* subsections.\n",
        "   - Most important is that you describe how your solution works, and why you solved it in a particular way. Clearly state the ranges for your hyper-parameters, and explain why you chose those.\n",
        "   - Explain, and give pseudo-code for your hyper-parameter search. Explain any decisions/choices you've made.\n",
        "   - For the neural network: Plot how the loss evolve during training of your best model, and interpret the plot. The loss is available in the `MLPClassifier` after training.\n",
        "   - Describe how your work went and which problems and issues you faced when developing the program.\n",
        "   - Describe how you divided the work between you.\n",
        "   - Use clear, well written English language.\n",
        "   - You must not include your source code in the report, supply it in the Jupyter notebook.\n",
        "   - **Report your validation scores in the report.**\n",
        "\n",
        "The source code should align to the following:\n",
        "\n",
        " * Comment the code in a reasonable way. Follow the [Docstring conventions](https://peps.python.org/pep-0257/).\n",
        " * Structure your code in a suitable way, such that it is easy to follow what is going on.\n",
        " * Name classes, variables, methods, modules, *etc.*, such that the names clearly describe their function and follow the specifications given above.\n",
        " * The code you hand in should not contain sections that are not used, or unnecessary. Make sure that you understand every part of the code that you hand in.\n",
        " * **Important:** hand in a notebook that contains your execution results, i.e., execute the notebook from scratch (**Kernel** - **Re-start and run all**) and save before you hand in."
      ]
    },
    {
      "cell_type": "markdown",
      "metadata": {
        "id": "DJlFR2GELAxa"
      },
      "source": [
        "## Getting started\n",
        "\n",
        "You can follow [these instructions](https://jupyter.org/install) to install Jupyter Notebook. Then, proceed as follows:\n",
        "\n",
        " - Download this notebook.\n",
        " - Start Jupyter Notebook\n",
        " - Open your saved copy of this notebook\n",
        "\n",
        "Alternatively, you can also use [Google Colab](https://colab.research.google.com/) to work on the assignment \"in the cloud\"."
      ]
    },
    {
      "cell_type": "markdown",
      "metadata": {
        "id": "OBJ704gG_GHP"
      },
      "source": [
        "**Note**: If you take the course Artificial Intelligence in Cognitive Science (5DV201), then set the following variable to `False`:\n",
        "\n"
      ]
    },
    {
      "cell_type": "code",
      "execution_count": 2,
      "metadata": {
        "id": "ua6te8J-_AVQ"
      },
      "outputs": [],
      "source": [
        "course_5DV124 = True"
      ]
    },
    {
      "cell_type": "code",
      "execution_count": 3,
      "metadata": {
        "id": "yu8e2FVq_I-S"
      },
      "outputs": [],
      "source": [
        "%%capture\n",
        "# Install the dependencies (in case you use Google Colab, these should be available by default, though)\n",
        "! pip install --user -Iv numpy matplotlib sklearn==0.24.1"
      ]
    },
    {
      "cell_type": "markdown",
      "source": [
        "***NUMPY RANDOM SEED IS FOR PSEUDO-RANDOM NUMBERS IN PYTHON.\n",
        "NumPy random seed is simply a function that sets the random seed of the NumPy pseudo-random number generator. It provides an essential input that enables NumPy to generate pseudo-random numbers for random processes.***\n",
        "***np.random.seed(0) makes the random numbers predictable***\n",
        "***When you set the seed (every time), it does the same thing every time, giving you the same numbers.***"
      ],
      "metadata": {
        "id": "z8s96HCd1hle"
      }
    },
    {
      "cell_type": "code",
      "execution_count": 5,
      "metadata": {
        "id": "092ZQBfJzALh"
      },
      "outputs": [],
      "source": [
        "import numpy as np\n",
        "np.random.seed(42)  # Set the random seed for reproducible results"
      ]
    },
    {
      "cell_type": "markdown",
      "source": [
        "***MNIST database (Modified National Institute of Standards and Technology database) is a large database of handwritten digits that is commonly used for training various image processing systems. The database is also widely used for training and testing in the field of machine learning***"
      ],
      "metadata": {
        "id": "BTuoPcR-3h3B"
      }
    },
    {
      "cell_type": "markdown",
      "source": [
        "***Train-Valid-Test split is a technique to evaluate the performance of your machine learning model — classification or regression alike. You take a given dataset and divide it into three subsets. Train Dataset\n",
        "Set: used for learning (by the model)to fit the parameters to the machine learning model. Valid Dataset:Set of data to provide an unbiased evaluation of a model fitted on the training dataset while tuning model hyperparameters.Test Dataset:to provide an unbiased evaluation of a final model fitted on the training dataset.***"
      ],
      "metadata": {
        "id": "7yp3afXj60Bp"
      }
    },
    {
      "cell_type": "code",
      "execution_count": 4,
      "metadata": {
        "colab": {
          "base_uri": "https://localhost:8080/"
        },
        "id": "CPqG1Q30qsEB",
        "outputId": "548f04b0-c189-4376-9f82-4662fe7dd73f"
      },
      "outputs": [
        {
          "output_type": "stream",
          "name": "stdout",
          "text": [
            "**Author**: Yann LeCun, Corinna Cortes, Christopher J.C. Burges  \n",
            "**Source**: [MNIST Website](http://yann.lecun.com/exdb/mnist/) - Date unknown  \n",
            "**Please cite**:  \n",
            "\n",
            "The MNIST database of handwritten digits with 784 features, raw data available at: http://yann.lecun.com/exdb/mnist/. It can be split in a training set of the first 60,000 examples, and a test set of 10,000 examples  \n",
            "\n",
            "It is a subset of a larger set available from NIST. The digits have been size-normalized and centered in a fixed-size image. It is a good database for people who want to try learning techniques and pattern recognition methods on real-world data while spending minimal efforts on preprocessing and formatting. The original black and white (bilevel) images from NIST were size normalized to fit in a 20x20 pixel box while preserving their aspect ratio. The resulting images contain grey levels as a result of the anti-aliasing technique used by the normalization algorithm. the images were centered in a 28x28 image by computing the center of mass of the pixels, and translating the image so as to position this point at the center of the 28x28 field.  \n",
            "\n",
            "With some classification methods (particularly template-based methods, such as SVM and K-nearest neighbors), the error rate improves when the digits are centered by bounding box rather than center of mass. If you do this kind of pre-processing, you should report it in your publications. The MNIST database was constructed from NIST's NIST originally designated SD-3 as their training set and SD-1 as their test set. However, SD-3 is much cleaner and easier to recognize than SD-1. The reason for this can be found on the fact that SD-3 was collected among Census Bureau employees, while SD-1 was collected among high-school students. Drawing sensible conclusions from learning experiments requires that the result be independent of the choice of training set and test among the complete set of samples. Therefore it was necessary to build a new database by mixing NIST's datasets.  \n",
            "\n",
            "The MNIST training set is composed of 30,000 patterns from SD-3 and 30,000 patterns from SD-1. Our test set was composed of 5,000 patterns from SD-3 and 5,000 patterns from SD-1. The 60,000 pattern training set contained examples from approximately 250 writers. We made sure that the sets of writers of the training set and test set were disjoint. SD-1 contains 58,527 digit images written by 500 different writers. In contrast to SD-3, where blocks of data from each writer appeared in sequence, the data in SD-1 is scrambled. Writer identities for SD-1 is available and we used this information to unscramble the writers. We then split SD-1 in two: characters written by the first 250 writers went into our new training set. The remaining 250 writers were placed in our test set. Thus we had two sets with nearly 30,000 examples each. The new training set was completed with enough examples from SD-3, starting at pattern # 0, to make a full set of 60,000 training patterns. Similarly, the new test set was completed with SD-3 examples starting at pattern # 35,000 to make a full set with 60,000 test patterns. Only a subset of 10,000 test images (5,000 from SD-1 and 5,000 from SD-3) is available on this site. The full 60,000 sample training set is available.\n",
            "\n",
            "Downloaded from openml.org.\n"
          ]
        }
      ],
      "source": [
        "# Load the MNIST dataset (this may take a while)\n",
        "import pandas as pd\n",
        "import sklearn.datasets\n",
        "\n",
        "data = sklearn.datasets.fetch_openml(\"mnist_784\")\n",
        "'''df = pd.DataFrame(data.data)\n",
        "df['target'] = data.target\n",
        "df\n",
        "df.head()'''\n",
        "print(data.DESCR)"
      ]
    },
    {
      "cell_type": "code",
      "source": [
        "#pip install fast_ml"
      ],
      "metadata": {
        "colab": {
          "base_uri": "https://localhost:8080/",
          "height": 0
        },
        "id": "Zcop_LOMlKnu",
        "outputId": "02005abb-2d83-43b0-8f98-4765e80c5c5d"
      },
      "execution_count": 21,
      "outputs": [
        {
          "output_type": "stream",
          "name": "stdout",
          "text": [
            "Looking in indexes: https://pypi.org/simple, https://us-python.pkg.dev/colab-wheels/public/simple/\n",
            "Collecting fast_ml\n",
            "  Downloading fast_ml-3.68-py3-none-any.whl (42 kB)\n",
            "\u001b[K     |████████████████████████████████| 42 kB 573 kB/s \n",
            "\u001b[?25hInstalling collected packages: fast-ml\n",
            "Successfully installed fast-ml-3.68\n"
          ]
        }
      ]
    },
    {
      "cell_type": "code",
      "source": [
        "import numpy as np\n",
        "np.random.seed(42)  # Set the random seed for reproducible results\n",
        "\n",
        "'''from fast_ml.model_development import train_valid_test_split\n",
        "Xtrain, ytrain, Xval, yval, Xtest, ytest = train_valid_test_split(df,target='target', train_size=0.8, valid_size=0.1, test_size=0.1)'''\n",
        "\n",
        "# Split the data into training, (validation), and test set\n",
        "\n",
        "from sklearn.model_selection import train_test_split\n",
        "\n",
        "\n",
        "Xtrain, Xtest, ytrain, ytest = train_test_split(data.data, data.target, test_size=0.25, random_state=1)\n",
        "\n",
        "# You may alternatively skip this / have a combined Xtrain and Xval here and instead use cross-validation below\n",
        "Xtest, Xval, ytest, yval = train_test_split(Xtest, ytest, test_size=0.5, random_state=1)\n",
        "Xtrain =  np.asarray(Xtrain)\n",
        "Xtest =  np.asarray(Xtest)\n",
        "Xval =  np.asarray(Xval)\n",
        "ytrain =  np.asarray(ytrain)\n",
        "ytest =  np.asarray(ytest)\n",
        "yval =  np.asarray(yval)\n",
        "\n",
        "\n",
        "# Note! Do not touch the test data until the very end!\n",
        "\n",
        "print(f\"Training set size X   : {Xtrain.shape}\")\n",
        "print(f\"Training set size y   : {ytrain.shape}\")\n",
        "print(f\"Validation set size X : {Xval.shape}\")\n",
        "print(f\"Validation set size y : {yval.shape}\")\n",
        "print(f\"Test set size X       : {Xtest.shape}\")\n",
        "print(f\"Test set size y       : {ytest.shape}\")\n",
        "print(f\"Output classes        : {set(ytrain)}\")\n"
      ],
      "metadata": {
        "colab": {
          "base_uri": "https://localhost:8080/"
        },
        "id": "t69lC4bEmjAT",
        "outputId": "54a48a6f-ce80-4933-eb5d-d1bd7a115bfd"
      },
      "execution_count": 5,
      "outputs": [
        {
          "output_type": "stream",
          "name": "stdout",
          "text": [
            "Training set size X   : (52500, 784)\n",
            "Training set size y   : (52500,)\n",
            "Validation set size X : (8750, 784)\n",
            "Validation set size y : (8750,)\n",
            "Test set size X       : (8750, 784)\n",
            "Test set size y       : (8750,)\n",
            "Output classes        : {'1', '7', '6', '3', '2', '4', '8', '9', '5', '0'}\n"
          ]
        }
      ]
    },
    {
      "cell_type": "code",
      "execution_count": 6,
      "metadata": {
        "colab": {
          "base_uri": "https://localhost:8080/",
          "height": 687
        },
        "id": "2st_Xv3w12Tb",
        "outputId": "fc8cd651-f2ef-4eb3-b706-c636098d5096"
      },
      "outputs": [
        {
          "output_type": "stream",
          "name": "stdout",
          "text": [
            "i: 0 j: 0 ax[i][j] AxesSubplot(0.005,0.556097;0.222472x0.438903)\n",
            "i: 0 j: 1 ax[i][j] AxesSubplot(0.260843,0.556097;0.222472x0.438903)\n",
            "i: 0 j: 2 ax[i][j] AxesSubplot(0.516685,0.556097;0.222472x0.438903)\n",
            "i: 0 j: 3 ax[i][j] AxesSubplot(0.772528,0.556097;0.222472x0.438903)\n",
            "i: 1 j: 0 ax[i][j] AxesSubplot(0.005,0.115;0.222472x0.438903)\n",
            "i: 1 j: 1 ax[i][j] AxesSubplot(0.260843,0.115;0.222472x0.438903)\n",
            "i: 1 j: 2 ax[i][j] AxesSubplot(0.516685,0.115;0.222472x0.438903)\n",
            "i: 1 j: 3 ax[i][j] AxesSubplot(0.772528,0.115;0.222472x0.438903)\n",
            "[[<matplotlib.axes._subplots.AxesSubplot object at 0x7f90e02876d0>, <matplotlib.axes._subplots.AxesSubplot object at 0x7f90e0299850>, <matplotlib.axes._subplots.AxesSubplot object at 0x7f90e02abd90>, <matplotlib.axes._subplots.AxesSubplot object at 0x7f90e02586d0>], [<matplotlib.axes._subplots.AxesSubplot object at 0x7f90e02876d0>, <matplotlib.axes._subplots.AxesSubplot object at 0x7f90e0299850>, <matplotlib.axes._subplots.AxesSubplot object at 0x7f90e02abd90>, <matplotlib.axes._subplots.AxesSubplot object at 0x7f90e02586d0>]]\n"
          ]
        },
        {
          "output_type": "display_data",
          "data": {
            "text/plain": [
              "<Figure size 864x558 with 8 Axes>"
            ],
            "image/png": "[encoded data removed]"
          },
          "metadata": {
            "needs_background": "light"
          }
        }
      ],
      "source": [
        "# Plot a few images\n",
        "\n",
        "import matplotlib.pyplot as plt\n",
        "%matplotlib inline\n",
        "\n",
        "fig = plt.figure(figsize=(12, 7.75))\n",
        "fig.subplots_adjust(top=0.995,\n",
        "                    bottom=0.115,\n",
        "                    left=0.005,\n",
        "                    right=0.995,\n",
        "                    wspace=0.15,\n",
        "                    hspace=0.005)\n",
        "\n",
        "plot_array = (2, 4)\n",
        "ax = [[None] * plot_array[1]] * plot_array[0]\n",
        "it = 0\n",
        "for i in range(plot_array[0]):\n",
        "    for j in range(plot_array[1]):\n",
        "        ax[i][j] = plt.subplot2grid((2, 4), (i, j), rowspan=1, colspan=1)\n",
        "        ax[i][j].imshow(Xtrain[it, :].reshape((28, 28)))\n",
        "        ##***To see without plot view what is exactly ax[i][j]***      \n",
        "        print(\"i:\",i , \"j:\",j,\"ax[i][j]\",ax[i][j])\n",
        "        ax[i][j].set_title(f\"Label: {ytrain[it]}\", fontsize=24)\n",
        "        it += 1\n",
        "print(ax)\n"
      ]
    },
    {
      "cell_type": "markdown",
      "source": [
        "\n",
        "The **sklearn preprocessing** package provides several common utility functions and transformer classes to change raw feature vectors into a representation that is more suitable for the downstream estimators. In general, learning algorithms benefit from standardization of the data set."
      ],
      "metadata": {
        "id": "SyZwsULp09Tl"
      }
    },
    {
      "cell_type": "code",
      "execution_count": 63,
      "metadata": {
        "colab": {
          "base_uri": "https://localhost:8080/"
        },
        "id": "Xd0OxcEW5mq7",
        "outputId": "b14de32c-0e48-41d3-b61b-d3b03f8c6d10"
      },
      "outputs": [
        {
          "output_type": "stream",
          "name": "stdout",
          "text": [
            "Before preprocessing, test data       : min = -1.3, max = 229.1, mean = -0.0, std = 1.0\n",
            "Before preprocessing, validation data : min = -1.3, max = 418.4, mean = -0.0, std = 1.0\n",
            "Before preprocessing, test data       : min = -1.3, max = 1211.1, mean = -0.0, std = 1.1\n",
            "After preprocessing, test data        : min = -1.0, max = 1.0, mean = -0.7, std = 0.6\n",
            "After preprocessing, validation data  : min = -1.0, max = 63.0, mean = -0.7, std = 0.6\n",
            "After preprocessing, test data        : min = -1.0, max = 451.0, mean = -0.7, std = 0.6\n"
          ]
        }
      ],
      "source": [
        "# Preprocess the data\n",
        "\n",
        "import sklearn.preprocessing\n",
        "\n",
        "print(f\"Before preprocessing, test data       : \"\n",
        "      f\"min = {np.min(Xtrain):.1f}, \"\n",
        "      f\"max = {np.max(Xtrain):.1f}, \"\n",
        "      f\"mean = {np.mean(Xtrain):.1f}, \"\n",
        "      f\"std = {np.std(Xtrain):.1f}\")\n",
        "print(f\"Before preprocessing, validation data : \"\n",
        "      f\"min = {np.min(Xval):.1f}, \"\n",
        "      f\"max = {np.max(Xval):.1f}, \"\n",
        "      f\"mean = {np.mean(Xval):.1f}, \"\n",
        "      f\"std = {np.std(Xval):.1f}\")\n",
        "print(f\"Before preprocessing, test data       : \"\n",
        "      f\"min = {np.min(Xtest):.1f}, \"\n",
        "      f\"max = {np.max(Xtest):.1f}, \"\n",
        "      f\"mean = {np.mean(Xtest):.1f}, \"\n",
        "      f\"std = {np.std(Xtest):.1f}\")\n",
        "\n",
        "scaler = sklearn.preprocessing.MinMaxScaler(feature_range=(-1, 1))\n",
        "scaler.fit(Xtrain)  # Every statistic we compute is found on the training data!\n",
        "\n",
        "Xtrain = scaler.transform(Xtrain)\n",
        "Xval = scaler.transform(Xval)\n",
        "# TODO: If you do cross-validation, you must redo this on the training data in\n",
        "#       each cross-validation loop, and then transform the validation data as\n",
        "#       well!\n",
        "Xtest = scaler.transform(Xtest)\n",
        "\n",
        "print(f\"After preprocessing, test data        : \"\n",
        "      f\"min = {np.min(Xtrain):.1f}, \"\n",
        "      f\"max = {np.max(Xtrain):.1f}, \"\n",
        "      f\"mean = {np.mean(Xtrain):.1f}, \"\n",
        "      f\"std = {np.std(Xtrain):.1f}\")\n",
        "print(f\"After preprocessing, validation data  : \"\n",
        "      f\"min = {np.min(Xval):.1f}, \"\n",
        "      f\"max = {np.max(Xval):.1f}, \"\n",
        "      f\"mean = {np.mean(Xval):.1f}, \"\n",
        "      f\"std = {np.std(Xval):.1f}\")\n",
        "print(f\"After preprocessing, test data        : \"\n",
        "      f\"min = {np.min(Xtest):.1f}, \"\n",
        "      f\"max = {np.max(Xtest):.1f}, \"\n",
        "      f\"mean = {np.mean(Xtest):.1f}, \"\n",
        "      f\"std = {np.std(Xtest):.1f}\")\n",
        "\n",
        "# TODO: Try to apply other preprocessing, e.g. the\n",
        "#       sklearn.preprocessing.StandardScaler(), and see if the results improve."
      ]
    },
    {
      "cell_type": "markdown",
      "source": [
        "\n",
        "Use **StandardScaler**  to have zero-mean, unit standard-deviation."
      ],
      "metadata": {
        "id": "cskOHKzA1aJT"
      }
    },
    {
      "cell_type": "code",
      "source": [
        "# TODO: Try to apply other preprocessing, e.g. the\n",
        "#       sklearn.preprocessing.StandardScaler(), and see if the results improve.\n",
        "# Preprocess the data with StandardScaler\n",
        "from sklearn.preprocessing import StandardScaler\n",
        "\n",
        "print(f\"Before preprocessing, test data       : \"\n",
        "      f\"min = {np.min(Xtrain):.1f}, \"\n",
        "      f\"max = {np.max(Xtrain):.1f}, \"\n",
        "      f\"mean = {np.mean(Xtrain):.1f}, \"\n",
        "      f\"std = {np.std(Xtrain):.1f}\")\n",
        "print(f\"Before preprocessing, validation data : \"\n",
        "      f\"min = {np.min(Xval):.1f}, \"\n",
        "      f\"max = {np.max(Xval):.1f}, \"\n",
        "      f\"mean = {np.mean(Xval):.1f}, \"\n",
        "      f\"std = {np.std(Xval):.1f}\")\n",
        "print(f\"Before preprocessing, test data       : \"\n",
        "      f\"min = {np.min(Xtest):.1f}, \"\n",
        "      f\"max = {np.max(Xtest):.1f}, \"\n",
        "      f\"mean = {np.mean(Xtest):.1f}, \"\n",
        "      f\"std = {np.std(Xtest):.1f}\")\n",
        "\n",
        "scaler = StandardScaler()\n",
        "StandardScaler(copy=True, with_mean=True, with_std=True)\n",
        "\n",
        "scaler.fit(Xtrain)\n",
        "Xtrain = scaler.transform(Xtrain)\n",
        "\n",
        "# TODO: If you do cross-validation, you must redo this on the training data in\n",
        "#       each cross-validation loop, and then transform the validation data as\n",
        "#       well!\n",
        "#scaler.fit(Xval)\n",
        "Xval = scaler.transform(Xval)\n",
        "\n",
        "# TODO: If you do cross-validation, you must redo this on the training data in\n",
        "#       each cross-validation loop, and then transform the validation data as\n",
        "#       well!\n",
        "#scaler.fit(Xtest)\n",
        "Xtest = scaler.transform(Xtest)\n",
        "\n",
        "print(f\"After preprocessing, test data        : \"\n",
        "      f\"min = {np.min(Xtrain):.1f}, \"\n",
        "      f\"max = {np.max(Xtrain):.1f}, \"\n",
        "      f\"mean = {np.mean(Xtrain):.1f}, \"\n",
        "      f\"std = {np.std(Xtrain):.1f}\")\n",
        "print(f\"After preprocessing, validation data  : \"\n",
        "      f\"min = {np.min(Xval):.1f}, \"\n",
        "      f\"max = {np.max(Xval):.1f}, \"\n",
        "      f\"mean = {np.mean(Xval):.1f}, \"\n",
        "      f\"std = {np.std(Xval):.1f}\")\n",
        "print(f\"After preprocessing, test data        : \"\n",
        "      f\"min = {np.min(Xtest):.1f}, \"\n",
        "      f\"max = {np.max(Xtest):.1f}, \"\n",
        "      f\"mean = {np.mean(Xtest):.1f}, \"\n",
        "      f\"std = {np.std(Xtest):.1f}\")\n"
      ],
      "metadata": {
        "colab": {
          "base_uri": "https://localhost:8080/"
        },
        "id": "8t8q6DBe1moX",
        "outputId": "a0e83a74-e628-4f21-e4e8-890935891822"
      },
      "execution_count": 131,
      "outputs": [
        {
          "output_type": "stream",
          "name": "stdout",
          "text": [
            "Before preprocessing, test data       : min = -1.0, max = 1.0, mean = -0.7, std = 0.6\n",
            "Before preprocessing, validation data : min = -1.0, max = 127.0, mean = -0.7, std = 0.6\n",
            "Before preprocessing, test data       : min = -1.0, max = 903.0, mean = -0.7, std = 0.7\n",
            "After preprocessing, test data        : min = -1.3, max = 229.1, mean = -0.0, std = 1.0\n",
            "After preprocessing, validation data  : min = -1.3, max = 418.4, mean = -0.0, std = 1.0\n",
            "After preprocessing, test data        : min = -1.3, max = 1211.1, mean = -0.0, std = 1.1\n"
          ]
        }
      ]
    },
    {
      "cell_type": "markdown",
      "metadata": {
        "id": "_I-L0BtiwOMO"
      },
      "source": [
        "### The $k$-NN model\n",
        "\n",
        "If you take the course **5DV124**, then you will have to implement the $k$-NN classifier yourself. The below implementation uses the scikit-learn implementation of the $k$-NN classifier, but you need to do it yourself.\n",
        "\n",
        "If you take the course **5DV201**, then you can use the $k$-NN classifier from scikit-learn directly. You are of course free to also implement the $k$-NN classifier yourself, if you want to do that.\n",
        "\n",
        "In both cases, you need to perform a hyper-parameter search for the optimal number of neighbours, $k$."
      ]
    },
    {
      "cell_type": "code",
      "source": [
        "#1\n",
        "#KNeighborsClassifier easy solution \n",
        "'''from sklearn.neighbors import KNeighborsClassifier\n",
        "\n",
        "model = KNeighborsClassifier(n_neighbors=4)\n",
        "KNN=KNeighborsClassifier(n_neighbors=4)\n",
        "\n",
        "KNN.fit(Xtrain, ytrain)\n",
        "Ypred=KNN.predict(Xtest)\n",
        "\n",
        "from sklearn.metrics import classification_report, confusion_matrix\n",
        "print(classification_report(ytest, Ypred))\n",
        "\n",
        "err = KNN.score(Xval[:100, :], yval[:100])\n",
        "print(f\"Number of neighbours: k={k}, validation accuracy: {err}\")'''"
      ],
      "metadata": {
        "colab": {
          "base_uri": "https://localhost:8080/",
          "height": 70
        },
        "id": "vzpHlZ1IJPD8",
        "outputId": "8698ad77-157e-4a5b-d702-1e98aaae61cd"
      },
      "execution_count": 144,
      "outputs": [
        {
          "output_type": "execute_result",
          "data": {
            "text/plain": [
              "'from sklearn.neighbors import KNeighborsClassifier\\n\\nmodel = KNeighborsClassifier(n_neighbors=4)\\nKNN=KNeighborsClassifier(n_neighbors=4)\\n\\nKNN.fit(Xtrain, ytrain)\\nYpred=KNN.predict(Xtest)\\n\\nfrom sklearn.metrics import classification_report, confusion_matrix\\nprint(classification_report(ytest, Ypred))\\n\\nerr = KNN.score(Xval[:100, :], yval[:100])\\nprint(f\"Number of neighbours: k={k}, validation accuracy: {err}\")'"
            ],
            "application/vnd.google.colaboratory.intrinsic+json": {
              "type": "string"
            }
          },
          "metadata": {},
          "execution_count": 144
        }
      ]
    },
    {
      "cell_type": "markdown",
      "source": [
        "we use \n",
        "**training data** for finding nearest neighbours,\n",
        "**cross-validation data** to find the best value of “K” (K neighbours here)  **test** to test our model on totally unseen test data. This test data is equivalent to the future unseen data points."
      ],
      "metadata": {
        "id": "HOhiiCZkKwYj"
      }
    },
    {
      "cell_type": "code",
      "source": [
        "def most_common(lst):\n",
        " return max(set(lst), key=lst.count) "
      ],
      "metadata": {
        "id": "1qexh0NK4Nzu"
      },
      "execution_count": 121,
      "outputs": []
    },
    {
      "cell_type": "code",
      "source": [
        "def euclidean(point, data):\n",
        "    return np.sqrt(np.sum((point - data)**2, axis=1))"
      ],
      "metadata": {
        "id": "fDOEwSWl-m_9"
      },
      "execution_count": 122,
      "outputs": []
    },
    {
      "cell_type": "code",
      "source": [
        "# Create the k-NN classifier\n",
        "import numpy as np\n",
        "from collections import Counter\n",
        "import sklearn.neighbors\n",
        "from scipy import stats\n",
        "\n",
        "if course_5DV124:\n",
        "    # TODO: Create your own nearest neighbour classifier:\n",
        "    class KNeighborsClassifier(sklearn.neighbors.KNeighborsClassifier):\n",
        "\n",
        "        def most_common(lst):\n",
        "         return max(set(lst), key=lst.count) \n",
        "\n",
        "        def __init__(self, k=5,  dist_metric=euclidean):  \n",
        "            self.k=k\n",
        "            self.Xtrain=None\n",
        "            self.ytrain=None\n",
        "            self.dist_metric = dist_metric\n",
        "            #self.metric = 'euclidean'\n",
        "\n",
        "        @staticmethod\n",
        "        def _eucidean_distance(p,q):\n",
        "          return np.sqrt(np.sum(p-q)**2)\n",
        "\n",
        "        '''def fit(self, X, y):\n",
        "            self.Xtrain=X\n",
        "            self.ytrain=y'''\n",
        "        def fit(self, Xtrain, ytrain):\n",
        "         self.Xtrain = Xtrain\n",
        "         self.ytrain = ytrain \n",
        "\n",
        "        def predict(self, X_test):\n",
        "         neighbors = []\n",
        "         for x in X_test:\n",
        "            distances = self.dist_metric(x, self.Xtrain)\n",
        "            y_sorted = [y for _, y in sorted(zip(distances, self.ytrain))]\n",
        "            neighbors.append(y_sorted[:self.k])\n",
        "         return list(map(most_common, neighbors))\n",
        "        def evaluate(self, X_test, y_test):\n",
        "         y_pred = self.predict(X_test)\n",
        "         accuracy = sum(y_pred == y_test) / len(y_test)\n",
        "         return accuracy\n"
      ],
      "metadata": {
        "id": "Y-OEluxqDzxQ"
      },
      "execution_count": 123,
      "outputs": []
    },
    {
      "cell_type": "code",
      "execution_count": 124,
      "metadata": {
        "colab": {
          "base_uri": "https://localhost:8080/"
        },
        "id": "PFTZLR7zu1SI",
        "outputId": "cbd3fe16-d47b-4172-e466-988f2c7cf733"
      },
      "outputs": [
        {
          "output_type": "stream",
          "name": "stdout",
          "text": [
            "Number of neighbours: k=3, validation accuracy: 0.81\n",
            "accuracy=  0.7845714285714286\n",
            "****error**** 0.81\n",
            "Without Grid search done!\n"
          ]
        }
      ],
      "source": [
        "# Perform grid search to find the number of neighbours, K\n",
        "\n",
        "k_max = 10  # Set the maximum number of neighbours considered\n",
        "\n",
        "errs_val = []\n",
        "# TODO: Perform a hyper-parameter search for the parameter k here. Either use\n",
        "#       the validation dataset, or optionally use cross-validation here.\n",
        "k = 3\n",
        "model = KNeighborsClassifier(k=k)\n",
        "# TODO: The distance computations may take a long time. Play with different\n",
        "#       amounts of data here to see what's feasible for you. Get it to work\n",
        "#       on a small amount of data, and then run for a longer time with more\n",
        "#       data. You may not be able to use all data with the k-NN method,\n",
        "#       depending on the computer you have for this.\n",
        "\n",
        "\n",
        "\n",
        "model.fit(Xtrain[:500, :], ytrain[:500])\n",
        "# NOTE: You need to adjust this when you extend your search space and also consider\n",
        "# hyperparameters like learning rate\n",
        "error = model.score(Xval[:100, :], yval[:100])\n",
        "accuracy = model.evaluate(Xtest, ytest)\n",
        "errs_val.append('')\n",
        "\n",
        "print(f\"Number of neighbours: k={k}, validation accuracy: {error}\")\n",
        "print('accuracy= ', accuracy)\n",
        "\n",
        "print(\"****error****\", error)\n",
        "errs_val.append(error)\n",
        "\n",
        "print(\" Grid search done!\")"
      ]
    },
    {
      "cell_type": "markdown",
      "source": [],
      "metadata": {
        "id": "QOUSYUH3IGGM"
      }
    },
    {
      "cell_type": "code",
      "source": [
        "#WITH StandardScaler()\n",
        "# Test knn model across varying ks\n",
        "accuracies = []\n",
        "errs_val=[]\n",
        "ks = range(1, 30)\n",
        "for k in ks:\n",
        "    knn = KNeighborsClassifier(k=k)\n",
        "    knn.fit(Xtrain[:1000, :], ytrain[:1000])\n",
        "    accuracy = knn.score(Xval[:100, :], yval[:100])\n",
        "    error = knn.score(Xval[:100, :], yval[:100])\n",
        "    print(f\"Number of neighbours: k={k}, validation accuracy: {error}\")\n",
        "    accuracies.append(accuracy)\n",
        "    errs_val.append(error)\n",
        "# Visualize accuracy vs. k\n",
        "# plot to see clearly\n",
        "\n",
        "fig, ax = plt.subplots()\n",
        "ax.plot(ks, errs_val)\n",
        "ax.set(xlabel=\"k\",\n",
        "       ylabel=\"Accuracy\",\n",
        "       title=\"Performance of knn\")\n",
        "plt.show()\n"
      ],
      "metadata": {
        "colab": {
          "base_uri": "https://localhost:8080/",
          "height": 816
        },
        "id": "35tEVX_uB22m",
        "outputId": "79b6eed5-b3fe-409e-b6ef-f8c3fa0be8d4"
      },
      "execution_count": 139,
      "outputs": [
        {
          "output_type": "stream",
          "name": "stdout",
          "text": [
            "Number of neighbours: k=1, validation accuracy: 0.92\n",
            "Number of neighbours: k=2, validation accuracy: 0.86\n",
            "Number of neighbours: k=3, validation accuracy: 0.88\n",
            "Number of neighbours: k=4, validation accuracy: 0.87\n",
            "Number of neighbours: k=5, validation accuracy: 0.91\n",
            "Number of neighbours: k=6, validation accuracy: 0.86\n",
            "Number of neighbours: k=7, validation accuracy: 0.88\n",
            "Number of neighbours: k=8, validation accuracy: 0.86\n",
            "Number of neighbours: k=9, validation accuracy: 0.87\n",
            "Number of neighbours: k=10, validation accuracy: 0.87\n",
            "Number of neighbours: k=11, validation accuracy: 0.86\n",
            "Number of neighbours: k=12, validation accuracy: 0.86\n",
            "Number of neighbours: k=13, validation accuracy: 0.86\n",
            "Number of neighbours: k=14, validation accuracy: 0.86\n",
            "Number of neighbours: k=15, validation accuracy: 0.85\n",
            "Number of neighbours: k=16, validation accuracy: 0.85\n",
            "Number of neighbours: k=17, validation accuracy: 0.85\n",
            "Number of neighbours: k=18, validation accuracy: 0.82\n",
            "Number of neighbours: k=19, validation accuracy: 0.85\n",
            "Number of neighbours: k=20, validation accuracy: 0.84\n",
            "Number of neighbours: k=21, validation accuracy: 0.82\n",
            "Number of neighbours: k=22, validation accuracy: 0.79\n",
            "Number of neighbours: k=23, validation accuracy: 0.8\n",
            "Number of neighbours: k=24, validation accuracy: 0.77\n",
            "Number of neighbours: k=25, validation accuracy: 0.79\n",
            "Number of neighbours: k=26, validation accuracy: 0.78\n",
            "Number of neighbours: k=27, validation accuracy: 0.76\n",
            "Number of neighbours: k=28, validation accuracy: 0.78\n",
            "Number of neighbours: k=29, validation accuracy: 0.78\n"
          ]
        },
        {
          "output_type": "display_data",
          "data": {
            "text/plain": [
              "<Figure size 576x360 with 0 Axes>"
            ]
          },
          "metadata": {}
        },
        {
          "output_type": "display_data",
          "data": {
            "text/plain": [
              "<Figure size 432x288 with 1 Axes>"
            ],
            "image/png": "[encoded data removed]"
          },
          "metadata": {
            "needs_background": "light"
          }
        }
      ]
    },
    {
      "cell_type": "code",
      "source": [
        "#WITH preprocessing.MinMaxScaler\n",
        "scaler = sklearn.preprocessing.MinMaxScaler(feature_range=(-1, 1))\n",
        "scaler.fit(Xtrain)  # Every statistic we compute is found on the training data!\n",
        "\n",
        "Xtrain = scaler.transform(Xtrain)\n",
        "Xval = scaler.transform(Xval)\n",
        "# TODO: If you do cross-validation, you must redo this on the training data in\n",
        "#       each cross-validation loop, and then transform the validation data as\n",
        "#       well!\n",
        "Xtest = scaler.transform(Xtest)"
      ],
      "metadata": {
        "id": "GOvrLN4aJlWE"
      },
      "execution_count": 136,
      "outputs": []
    },
    {
      "cell_type": "code",
      "source": [
        "# Test knn model across varying ks\n",
        "accuracies = []\n",
        "errs_val=[]\n",
        "ks = range(1, 30)\n",
        "for k in ks:\n",
        "    knn = KNeighborsClassifier(k=k)\n",
        "    knn.fit(Xtrain[:500, :], ytrain[:500])\n",
        "    accuracy = knn.score(Xval[:10000, :], yval[:10000])\n",
        "    error = knn.score(Xval[:100, :], yval[:100])\n",
        "    print(f\"Number of neighbours: k={k}, validation accuracy: {error}\")\n",
        "    accuracies.append(accuracy)\n",
        "    errs_val.append(error)\n",
        "# Visualize accuracy vs. k\n",
        "fig, ax = plt.subplots()\n",
        "ax.plot(ks, errs_val)\n",
        "ax.set(xlabel=\"k\",\n",
        "       ylabel=\"Accuracy\",\n",
        "       title=\"Performance of knn\")\n",
        "plt.show()"
      ],
      "metadata": {
        "colab": {
          "base_uri": "https://localhost:8080/",
          "height": 798
        },
        "id": "sX1UkIBgJqjY",
        "outputId": "959aa8d7-d51c-47b7-b67b-0ce935e9bd03"
      },
      "execution_count": 137,
      "outputs": [
        {
          "output_type": "stream",
          "name": "stdout",
          "text": [
            "Number of neighbours: k=1, validation accuracy: 0.9\n",
            "Number of neighbours: k=2, validation accuracy: 0.82\n",
            "Number of neighbours: k=3, validation accuracy: 0.83\n",
            "Number of neighbours: k=4, validation accuracy: 0.83\n",
            "Number of neighbours: k=5, validation accuracy: 0.86\n",
            "Number of neighbours: k=6, validation accuracy: 0.79\n",
            "Number of neighbours: k=7, validation accuracy: 0.82\n",
            "Number of neighbours: k=8, validation accuracy: 0.77\n",
            "Number of neighbours: k=9, validation accuracy: 0.81\n",
            "Number of neighbours: k=10, validation accuracy: 0.77\n",
            "Number of neighbours: k=11, validation accuracy: 0.79\n",
            "Number of neighbours: k=12, validation accuracy: 0.78\n",
            "Number of neighbours: k=13, validation accuracy: 0.78\n",
            "Number of neighbours: k=14, validation accuracy: 0.78\n",
            "Number of neighbours: k=15, validation accuracy: 0.77\n",
            "Number of neighbours: k=16, validation accuracy: 0.76\n",
            "Number of neighbours: k=17, validation accuracy: 0.77\n",
            "Number of neighbours: k=18, validation accuracy: 0.77\n",
            "Number of neighbours: k=19, validation accuracy: 0.76\n",
            "Number of neighbours: k=20, validation accuracy: 0.75\n",
            "Number of neighbours: k=21, validation accuracy: 0.74\n",
            "Number of neighbours: k=22, validation accuracy: 0.74\n",
            "Number of neighbours: k=23, validation accuracy: 0.74\n",
            "Number of neighbours: k=24, validation accuracy: 0.74\n",
            "Number of neighbours: k=25, validation accuracy: 0.73\n",
            "Number of neighbours: k=26, validation accuracy: 0.73\n",
            "Number of neighbours: k=27, validation accuracy: 0.73\n",
            "Number of neighbours: k=28, validation accuracy: 0.71\n",
            "Number of neighbours: k=29, validation accuracy: 0.71\n"
          ]
        },
        {
          "output_type": "display_data",
          "data": {
            "text/plain": [
              "<Figure size 432x288 with 1 Axes>"
            ],
            "image/png": "[encoded data removed]"
          },
          "metadata": {
            "needs_background": "light"
          }
        }
      ]
    },
    {
      "cell_type": "markdown",
      "source": [],
      "metadata": {
        "id": "WKHY4bW-ihG5"
      }
    },
    {
      "cell_type": "code",
      "execution_count": 140,
      "metadata": {
        "colab": {
          "base_uri": "https://localhost:8080/"
        },
        "id": "FO2nAY0WvzJ5",
        "outputId": "e664c359-3e61-447e-89a6-21bf4195aaa5"
      },
      "outputs": [
        {
          "output_type": "stream",
          "name": "stdout",
          "text": [
            "The best value was 0.92, found using k=1.\n",
            "Final validation accuracy: 0.936\n"
          ]
        }
      ],
      "source": [
        "# Train the final k-NN model with the best value for k\n",
        "\n",
        "k_best = np.argmax(errs_val) + 1  # Note that k=1 is at index 0.\n",
        "print(f\"The best value was {errs_val[k_best - 1]}, found using k={k_best}.\")\n",
        "\n",
        "model_knn = KNeighborsClassifier(k=k_best)\n",
        "model_knn.fit(Xtrain[:5000, :], ytrain[:5000])\n",
        "err = model_knn.score(Xval[:1000, :], yval[:1000])\n",
        "print(f\"Final validation accuracy: {err}\")"
      ]
    },
    {
      "cell_type": "markdown",
      "source": [
        "import matplotlib.pyplot as plt \n",
        "%matplotlib inline\n",
        "# choose k between 1 to 31\n",
        "k_range = range(1, 31)\n",
        "k_scores = []\n",
        "\n",
        "# use iteration to caclulator different k in models, then return the average accuracy based on the cross validation\n",
        "\n",
        "    knn = KNeighborsClassifier(n_neighbors=k)\n",
        "    scores = cross_val_score(knn, X, y, cv=5, scoring='accuracy')\n",
        "    k_scores.append(scores.mean())\n"
      ],
      "metadata": {
        "id": "FcI744T_jnVQ"
      }
    },
    {
      "cell_type": "markdown",
      "metadata": {
        "id": "ESiZjUNjxy7b"
      },
      "source": [
        "### The neural network model\n",
        "\n",
        "We will use the neural networks (multilayer perceptrons) implemented in scikit-learn. You need to find the optimal number of layers, the number of neurons in each of the layers, and any other hyper-parameters that may be relevant."
      ]
    },
    {
      "cell_type": "code",
      "source": [
        "import numpy as np\n",
        "from sklearn import linear_model, datasets\n",
        "from sklearn.model_selection import GridSearchCV\n",
        "\n",
        "dataset = datasets.load_wine()\n",
        "X = dataset.data\n",
        "y = dataset.target\n",
        "\n",
        "logistic = linear_model.LogisticRegression()\n",
        "C = np.logspace(0, 4, 10)\n",
        "penalty = [\"l1\", \"l2\"]\n",
        "hyperparameters = dict(C=C, penalty=penalty)\n",
        "\n",
        "clf = GridSearchCV(logistic, hyperparameters, cv=5, verbose=0)\n",
        "best_model = clf.fit(X, y)\n",
        "\n",
        "\n",
        "\n",
        "print(\"Best Penalty:\", best_model.best_estimator_.get_params()[\"penalty\"])\n",
        "print(\"Best C:\", best_model.best_estimator_.get_params()[\"C\"])"
      ],
      "metadata": {
        "colab": {
          "base_uri": "https://localhost:8080/"
        },
        "id": "Cg_pooFkAvDP",
        "outputId": "c67efb56-c3ec-4cbf-e93c-fca6bfa3ed8c"
      },
      "execution_count": 141,
      "outputs": [
        {
          "output_type": "stream",
          "name": "stderr",
          "text": [
            "/usr/local/lib/python3.7/dist-packages/sklearn/linear_model/_logistic.py:818: ConvergenceWarning: lbfgs failed to converge (status=1):\n",
            "STOP: TOTAL NO. of ITERATIONS REACHED LIMIT.\n",
            "\n",
            "Increase the number of iterations (max_iter) or scale the data as shown in:\n",
            "    https://scikit-learn.org/stable/modules/preprocessing.html\n",
            "Please also refer to the documentation for alternative solver options:\n",
            "    https://scikit-learn.org/stable/modules/linear_model.html#logistic-regression\n",
            "  extra_warning_msg=_LOGISTIC_SOLVER_CONVERGENCE_MSG,\n",
            "/usr/local/lib/python3.7/dist-packages/sklearn/linear_model/_logistic.py:818: ConvergenceWarning: lbfgs failed to converge (status=1):\n",
            "STOP: TOTAL NO. of ITERATIONS REACHED LIMIT.\n",
            "\n",
            "Increase the number of iterations (max_iter) or scale the data as shown in:\n",
            "    https://scikit-learn.org/stable/modules/preprocessing.html\n",
            "Please also refer to the documentation for alternative solver options:\n",
            "    https://scikit-learn.org/stable/modules/linear_model.html#logistic-regression\n",
            "  extra_warning_msg=_LOGISTIC_SOLVER_CONVERGENCE_MSG,\n",
            "/usr/local/lib/python3.7/dist-packages/sklearn/linear_model/_logistic.py:818: ConvergenceWarning: lbfgs failed to converge (status=1):\n",
            "STOP: TOTAL NO. of ITERATIONS REACHED LIMIT.\n",
            "\n",
            "Increase the number of iterations (max_iter) or scale the data as shown in:\n",
            "    https://scikit-learn.org/stable/modules/preprocessing.html\n",
            "Please also refer to the documentation for alternative solver options:\n",
            "    https://scikit-learn.org/stable/modules/linear_model.html#logistic-regression\n",
            "  extra_warning_msg=_LOGISTIC_SOLVER_CONVERGENCE_MSG,\n",
            "/usr/local/lib/python3.7/dist-packages/sklearn/linear_model/_logistic.py:818: ConvergenceWarning: lbfgs failed to converge (status=1):\n",
            "STOP: TOTAL NO. of ITERATIONS REACHED LIMIT.\n",
            "\n",
            "Increase the number of iterations (max_iter) or scale the data as shown in:\n",
            "    https://scikit-learn.org/stable/modules/preprocessing.html\n",
            "Please also refer to the documentation for alternative solver options:\n",
            "    https://scikit-learn.org/stable/modules/linear_model.html#logistic-regression\n",
            "  extra_warning_msg=_LOGISTIC_SOLVER_CONVERGENCE_MSG,\n",
            "/usr/local/lib/python3.7/dist-packages/sklearn/linear_model/_logistic.py:818: ConvergenceWarning: lbfgs failed to converge (status=1):\n",
            "STOP: TOTAL NO. of ITERATIONS REACHED LIMIT.\n",
            "\n",
            "Increase the number of iterations (max_iter) or scale the data as shown in:\n",
            "    https://scikit-learn.org/stable/modules/preprocessing.html\n",
            "Please also refer to the documentation for alternative solver options:\n",
            "    https://scikit-learn.org/stable/modules/linear_model.html#logistic-regression\n",
            "  extra_warning_msg=_LOGISTIC_SOLVER_CONVERGENCE_MSG,\n",
            "/usr/local/lib/python3.7/dist-packages/sklearn/linear_model/_logistic.py:818: ConvergenceWarning: lbfgs failed to converge (status=1):\n",
            "STOP: TOTAL NO. of ITERATIONS REACHED LIMIT.\n",
            "\n",
            "Increase the number of iterations (max_iter) or scale the data as shown in:\n",
            "    https://scikit-learn.org/stable/modules/preprocessing.html\n",
            "Please also refer to the documentation for alternative solver options:\n",
            "    https://scikit-learn.org/stable/modules/linear_model.html#logistic-regression\n",
            "  extra_warning_msg=_LOGISTIC_SOLVER_CONVERGENCE_MSG,\n",
            "/usr/local/lib/python3.7/dist-packages/sklearn/linear_model/_logistic.py:818: ConvergenceWarning: lbfgs failed to converge (status=1):\n",
            "STOP: TOTAL NO. of ITERATIONS REACHED LIMIT.\n",
            "\n",
            "Increase the number of iterations (max_iter) or scale the data as shown in:\n",
            "    https://scikit-learn.org/stable/modules/preprocessing.html\n",
            "Please also refer to the documentation for alternative solver options:\n",
            "    https://scikit-learn.org/stable/modules/linear_model.html#logistic-regression\n",
            "  extra_warning_msg=_LOGISTIC_SOLVER_CONVERGENCE_MSG,\n",
            "/usr/local/lib/python3.7/dist-packages/sklearn/linear_model/_logistic.py:818: ConvergenceWarning: lbfgs failed to converge (status=1):\n",
            "STOP: TOTAL NO. of ITERATIONS REACHED LIMIT.\n",
            "\n",
            "Increase the number of iterations (max_iter) or scale the data as shown in:\n",
            "    https://scikit-learn.org/stable/modules/preprocessing.html\n",
            "Please also refer to the documentation for alternative solver options:\n",
            "    https://scikit-learn.org/stable/modules/linear_model.html#logistic-regression\n",
            "  extra_warning_msg=_LOGISTIC_SOLVER_CONVERGENCE_MSG,\n",
            "/usr/local/lib/python3.7/dist-packages/sklearn/linear_model/_logistic.py:818: ConvergenceWarning: lbfgs failed to converge (status=1):\n",
            "STOP: TOTAL NO. of ITERATIONS REACHED LIMIT.\n",
            "\n",
            "Increase the number of iterations (max_iter) or scale the data as shown in:\n",
            "    https://scikit-learn.org/stable/modules/preprocessing.html\n",
            "Please also refer to the documentation for alternative solver options:\n",
            "    https://scikit-learn.org/stable/modules/linear_model.html#logistic-regression\n",
            "  extra_warning_msg=_LOGISTIC_SOLVER_CONVERGENCE_MSG,\n",
            "/usr/local/lib/python3.7/dist-packages/sklearn/linear_model/_logistic.py:818: ConvergenceWarning: lbfgs failed to converge (status=1):\n",
            "STOP: TOTAL NO. of ITERATIONS REACHED LIMIT.\n",
            "\n",
            "Increase the number of iterations (max_iter) or scale the data as shown in:\n",
            "    https://scikit-learn.org/stable/modules/preprocessing.html\n",
            "Please also refer to the documentation for alternative solver options:\n",
            "    https://scikit-learn.org/stable/modules/linear_model.html#logistic-regression\n",
            "  extra_warning_msg=_LOGISTIC_SOLVER_CONVERGENCE_MSG,\n",
            "/usr/local/lib/python3.7/dist-packages/sklearn/linear_model/_logistic.py:818: ConvergenceWarning: lbfgs failed to converge (status=1):\n",
            "STOP: TOTAL NO. of ITERATIONS REACHED LIMIT.\n",
            "\n",
            "Increase the number of iterations (max_iter) or scale the data as shown in:\n",
            "    https://scikit-learn.org/stable/modules/preprocessing.html\n",
            "Please also refer to the documentation for alternative solver options:\n",
            "    https://scikit-learn.org/stable/modules/linear_model.html#logistic-regression\n",
            "  extra_warning_msg=_LOGISTIC_SOLVER_CONVERGENCE_MSG,\n",
            "/usr/local/lib/python3.7/dist-packages/sklearn/linear_model/_logistic.py:818: ConvergenceWarning: lbfgs failed to converge (status=1):\n",
            "STOP: TOTAL NO. of ITERATIONS REACHED LIMIT.\n",
            "\n",
            "Increase the number of iterations (max_iter) or scale the data as shown in:\n",
            "    https://scikit-learn.org/stable/modules/preprocessing.html\n",
            "Please also refer to the documentation for alternative solver options:\n",
            "    https://scikit-learn.org/stable/modules/linear_model.html#logistic-regression\n",
            "  extra_warning_msg=_LOGISTIC_SOLVER_CONVERGENCE_MSG,\n",
            "/usr/local/lib/python3.7/dist-packages/sklearn/linear_model/_logistic.py:818: ConvergenceWarning: lbfgs failed to converge (status=1):\n",
            "STOP: TOTAL NO. of ITERATIONS REACHED LIMIT.\n",
            "\n",
            "Increase the number of iterations (max_iter) or scale the data as shown in:\n",
            "    https://scikit-learn.org/stable/modules/preprocessing.html\n",
            "Please also refer to the documentation for alternative solver options:\n",
            "    https://scikit-learn.org/stable/modules/linear_model.html#logistic-regression\n",
            "  extra_warning_msg=_LOGISTIC_SOLVER_CONVERGENCE_MSG,\n",
            "/usr/local/lib/python3.7/dist-packages/sklearn/linear_model/_logistic.py:818: ConvergenceWarning: lbfgs failed to converge (status=1):\n",
            "STOP: TOTAL NO. of ITERATIONS REACHED LIMIT.\n",
            "\n",
            "Increase the number of iterations (max_iter) or scale the data as shown in:\n",
            "    https://scikit-learn.org/stable/modules/preprocessing.html\n",
            "Please also refer to the documentation for alternative solver options:\n",
            "    https://scikit-learn.org/stable/modules/linear_model.html#logistic-regression\n",
            "  extra_warning_msg=_LOGISTIC_SOLVER_CONVERGENCE_MSG,\n",
            "/usr/local/lib/python3.7/dist-packages/sklearn/linear_model/_logistic.py:818: ConvergenceWarning: lbfgs failed to converge (status=1):\n",
            "STOP: TOTAL NO. of ITERATIONS REACHED LIMIT.\n",
            "\n",
            "Increase the number of iterations (max_iter) or scale the data as shown in:\n",
            "    https://scikit-learn.org/stable/modules/preprocessing.html\n",
            "Please also refer to the documentation for alternative solver options:\n",
            "    https://scikit-learn.org/stable/modules/linear_model.html#logistic-regression\n",
            "  extra_warning_msg=_LOGISTIC_SOLVER_CONVERGENCE_MSG,\n",
            "/usr/local/lib/python3.7/dist-packages/sklearn/linear_model/_logistic.py:818: ConvergenceWarning: lbfgs failed to converge (status=1):\n",
            "STOP: TOTAL NO. of ITERATIONS REACHED LIMIT.\n",
            "\n",
            "Increase the number of iterations (max_iter) or scale the data as shown in:\n",
            "    https://scikit-learn.org/stable/modules/preprocessing.html\n",
            "Please also refer to the documentation for alternative solver options:\n",
            "    https://scikit-learn.org/stable/modules/linear_model.html#logistic-regression\n",
            "  extra_warning_msg=_LOGISTIC_SOLVER_CONVERGENCE_MSG,\n",
            "/usr/local/lib/python3.7/dist-packages/sklearn/linear_model/_logistic.py:818: ConvergenceWarning: lbfgs failed to converge (status=1):\n",
            "STOP: TOTAL NO. of ITERATIONS REACHED LIMIT.\n",
            "\n",
            "Increase the number of iterations (max_iter) or scale the data as shown in:\n",
            "    https://scikit-learn.org/stable/modules/preprocessing.html\n",
            "Please also refer to the documentation for alternative solver options:\n",
            "    https://scikit-learn.org/stable/modules/linear_model.html#logistic-regression\n",
            "  extra_warning_msg=_LOGISTIC_SOLVER_CONVERGENCE_MSG,\n",
            "/usr/local/lib/python3.7/dist-packages/sklearn/linear_model/_logistic.py:818: ConvergenceWarning: lbfgs failed to converge (status=1):\n",
            "STOP: TOTAL NO. of ITERATIONS REACHED LIMIT.\n",
            "\n",
            "Increase the number of iterations (max_iter) or scale the data as shown in:\n",
            "    https://scikit-learn.org/stable/modules/preprocessing.html\n",
            "Please also refer to the documentation for alternative solver options:\n",
            "    https://scikit-learn.org/stable/modules/linear_model.html#logistic-regression\n",
            "  extra_warning_msg=_LOGISTIC_SOLVER_CONVERGENCE_MSG,\n",
            "/usr/local/lib/python3.7/dist-packages/sklearn/linear_model/_logistic.py:818: ConvergenceWarning: lbfgs failed to converge (status=1):\n",
            "STOP: TOTAL NO. of ITERATIONS REACHED LIMIT.\n",
            "\n",
            "Increase the number of iterations (max_iter) or scale the data as shown in:\n",
            "    https://scikit-learn.org/stable/modules/preprocessing.html\n",
            "Please also refer to the documentation for alternative solver options:\n",
            "    https://scikit-learn.org/stable/modules/linear_model.html#logistic-regression\n",
            "  extra_warning_msg=_LOGISTIC_SOLVER_CONVERGENCE_MSG,\n",
            "/usr/local/lib/python3.7/dist-packages/sklearn/linear_model/_logistic.py:818: ConvergenceWarning: lbfgs failed to converge (status=1):\n",
            "STOP: TOTAL NO. of ITERATIONS REACHED LIMIT.\n",
            "\n",
            "Increase the number of iterations (max_iter) or scale the data as shown in:\n",
            "    https://scikit-learn.org/stable/modules/preprocessing.html\n",
            "Please also refer to the documentation for alternative solver options:\n",
            "    https://scikit-learn.org/stable/modules/linear_model.html#logistic-regression\n",
            "  extra_warning_msg=_LOGISTIC_SOLVER_CONVERGENCE_MSG,\n",
            "/usr/local/lib/python3.7/dist-packages/sklearn/linear_model/_logistic.py:818: ConvergenceWarning: lbfgs failed to converge (status=1):\n",
            "STOP: TOTAL NO. of ITERATIONS REACHED LIMIT.\n",
            "\n",
            "Increase the number of iterations (max_iter) or scale the data as shown in:\n",
            "    https://scikit-learn.org/stable/modules/preprocessing.html\n",
            "Please also refer to the documentation for alternative solver options:\n",
            "    https://scikit-learn.org/stable/modules/linear_model.html#logistic-regression\n",
            "  extra_warning_msg=_LOGISTIC_SOLVER_CONVERGENCE_MSG,\n",
            "/usr/local/lib/python3.7/dist-packages/sklearn/linear_model/_logistic.py:818: ConvergenceWarning: lbfgs failed to converge (status=1):\n",
            "STOP: TOTAL NO. of ITERATIONS REACHED LIMIT.\n",
            "\n",
            "Increase the number of iterations (max_iter) or scale the data as shown in:\n",
            "    https://scikit-learn.org/stable/modules/preprocessing.html\n",
            "Please also refer to the documentation for alternative solver options:\n",
            "    https://scikit-learn.org/stable/modules/linear_model.html#logistic-regression\n",
            "  extra_warning_msg=_LOGISTIC_SOLVER_CONVERGENCE_MSG,\n",
            "/usr/local/lib/python3.7/dist-packages/sklearn/linear_model/_logistic.py:818: ConvergenceWarning: lbfgs failed to converge (status=1):\n",
            "STOP: TOTAL NO. of ITERATIONS REACHED LIMIT.\n",
            "\n",
            "Increase the number of iterations (max_iter) or scale the data as shown in:\n",
            "    https://scikit-learn.org/stable/modules/preprocessing.html\n",
            "Please also refer to the documentation for alternative solver options:\n",
            "    https://scikit-learn.org/stable/modules/linear_model.html#logistic-regression\n",
            "  extra_warning_msg=_LOGISTIC_SOLVER_CONVERGENCE_MSG,\n",
            "/usr/local/lib/python3.7/dist-packages/sklearn/linear_model/_logistic.py:818: ConvergenceWarning: lbfgs failed to converge (status=1):\n",
            "STOP: TOTAL NO. of ITERATIONS REACHED LIMIT.\n",
            "\n",
            "Increase the number of iterations (max_iter) or scale the data as shown in:\n",
            "    https://scikit-learn.org/stable/modules/preprocessing.html\n",
            "Please also refer to the documentation for alternative solver options:\n",
            "    https://scikit-learn.org/stable/modules/linear_model.html#logistic-regression\n",
            "  extra_warning_msg=_LOGISTIC_SOLVER_CONVERGENCE_MSG,\n",
            "/usr/local/lib/python3.7/dist-packages/sklearn/linear_model/_logistic.py:818: ConvergenceWarning: lbfgs failed to converge (status=1):\n",
            "STOP: TOTAL NO. of ITERATIONS REACHED LIMIT.\n",
            "\n",
            "Increase the number of iterations (max_iter) or scale the data as shown in:\n",
            "    https://scikit-learn.org/stable/modules/preprocessing.html\n",
            "Please also refer to the documentation for alternative solver options:\n",
            "    https://scikit-learn.org/stable/modules/linear_model.html#logistic-regression\n",
            "  extra_warning_msg=_LOGISTIC_SOLVER_CONVERGENCE_MSG,\n",
            "/usr/local/lib/python3.7/dist-packages/sklearn/linear_model/_logistic.py:818: ConvergenceWarning: lbfgs failed to converge (status=1):\n",
            "STOP: TOTAL NO. of ITERATIONS REACHED LIMIT.\n",
            "\n",
            "Increase the number of iterations (max_iter) or scale the data as shown in:\n",
            "    https://scikit-learn.org/stable/modules/preprocessing.html\n",
            "Please also refer to the documentation for alternative solver options:\n",
            "    https://scikit-learn.org/stable/modules/linear_model.html#logistic-regression\n",
            "  extra_warning_msg=_LOGISTIC_SOLVER_CONVERGENCE_MSG,\n",
            "/usr/local/lib/python3.7/dist-packages/sklearn/linear_model/_logistic.py:818: ConvergenceWarning: lbfgs failed to converge (status=1):\n",
            "STOP: TOTAL NO. of ITERATIONS REACHED LIMIT.\n",
            "\n",
            "Increase the number of iterations (max_iter) or scale the data as shown in:\n",
            "    https://scikit-learn.org/stable/modules/preprocessing.html\n",
            "Please also refer to the documentation for alternative solver options:\n",
            "    https://scikit-learn.org/stable/modules/linear_model.html#logistic-regression\n",
            "  extra_warning_msg=_LOGISTIC_SOLVER_CONVERGENCE_MSG,\n",
            "/usr/local/lib/python3.7/dist-packages/sklearn/linear_model/_logistic.py:818: ConvergenceWarning: lbfgs failed to converge (status=1):\n",
            "STOP: TOTAL NO. of ITERATIONS REACHED LIMIT.\n",
            "\n",
            "Increase the number of iterations (max_iter) or scale the data as shown in:\n",
            "    https://scikit-learn.org/stable/modules/preprocessing.html\n",
            "Please also refer to the documentation for alternative solver options:\n",
            "    https://scikit-learn.org/stable/modules/linear_model.html#logistic-regression\n",
            "  extra_warning_msg=_LOGISTIC_SOLVER_CONVERGENCE_MSG,\n",
            "/usr/local/lib/python3.7/dist-packages/sklearn/linear_model/_logistic.py:818: ConvergenceWarning: lbfgs failed to converge (status=1):\n",
            "STOP: TOTAL NO. of ITERATIONS REACHED LIMIT.\n",
            "\n",
            "Increase the number of iterations (max_iter) or scale the data as shown in:\n",
            "    https://scikit-learn.org/stable/modules/preprocessing.html\n",
            "Please also refer to the documentation for alternative solver options:\n",
            "    https://scikit-learn.org/stable/modules/linear_model.html#logistic-regression\n",
            "  extra_warning_msg=_LOGISTIC_SOLVER_CONVERGENCE_MSG,\n",
            "/usr/local/lib/python3.7/dist-packages/sklearn/linear_model/_logistic.py:818: ConvergenceWarning: lbfgs failed to converge (status=1):\n",
            "STOP: TOTAL NO. of ITERATIONS REACHED LIMIT.\n",
            "\n",
            "Increase the number of iterations (max_iter) or scale the data as shown in:\n",
            "    https://scikit-learn.org/stable/modules/preprocessing.html\n",
            "Please also refer to the documentation for alternative solver options:\n",
            "    https://scikit-learn.org/stable/modules/linear_model.html#logistic-regression\n",
            "  extra_warning_msg=_LOGISTIC_SOLVER_CONVERGENCE_MSG,\n",
            "/usr/local/lib/python3.7/dist-packages/sklearn/linear_model/_logistic.py:818: ConvergenceWarning: lbfgs failed to converge (status=1):\n",
            "STOP: TOTAL NO. of ITERATIONS REACHED LIMIT.\n",
            "\n",
            "Increase the number of iterations (max_iter) or scale the data as shown in:\n",
            "    https://scikit-learn.org/stable/modules/preprocessing.html\n",
            "Please also refer to the documentation for alternative solver options:\n",
            "    https://scikit-learn.org/stable/modules/linear_model.html#logistic-regression\n",
            "  extra_warning_msg=_LOGISTIC_SOLVER_CONVERGENCE_MSG,\n",
            "/usr/local/lib/python3.7/dist-packages/sklearn/linear_model/_logistic.py:818: ConvergenceWarning: lbfgs failed to converge (status=1):\n",
            "STOP: TOTAL NO. of ITERATIONS REACHED LIMIT.\n",
            "\n",
            "Increase the number of iterations (max_iter) or scale the data as shown in:\n",
            "    https://scikit-learn.org/stable/modules/preprocessing.html\n",
            "Please also refer to the documentation for alternative solver options:\n",
            "    https://scikit-learn.org/stable/modules/linear_model.html#logistic-regression\n",
            "  extra_warning_msg=_LOGISTIC_SOLVER_CONVERGENCE_MSG,\n",
            "/usr/local/lib/python3.7/dist-packages/sklearn/linear_model/_logistic.py:818: ConvergenceWarning: lbfgs failed to converge (status=1):\n",
            "STOP: TOTAL NO. of ITERATIONS REACHED LIMIT.\n",
            "\n",
            "Increase the number of iterations (max_iter) or scale the data as shown in:\n",
            "    https://scikit-learn.org/stable/modules/preprocessing.html\n",
            "Please also refer to the documentation for alternative solver options:\n",
            "    https://scikit-learn.org/stable/modules/linear_model.html#logistic-regression\n",
            "  extra_warning_msg=_LOGISTIC_SOLVER_CONVERGENCE_MSG,\n",
            "/usr/local/lib/python3.7/dist-packages/sklearn/linear_model/_logistic.py:818: ConvergenceWarning: lbfgs failed to converge (status=1):\n",
            "STOP: TOTAL NO. of ITERATIONS REACHED LIMIT.\n",
            "\n",
            "Increase the number of iterations (max_iter) or scale the data as shown in:\n",
            "    https://scikit-learn.org/stable/modules/preprocessing.html\n",
            "Please also refer to the documentation for alternative solver options:\n",
            "    https://scikit-learn.org/stable/modules/linear_model.html#logistic-regression\n",
            "  extra_warning_msg=_LOGISTIC_SOLVER_CONVERGENCE_MSG,\n",
            "/usr/local/lib/python3.7/dist-packages/sklearn/linear_model/_logistic.py:818: ConvergenceWarning: lbfgs failed to converge (status=1):\n",
            "STOP: TOTAL NO. of ITERATIONS REACHED LIMIT.\n",
            "\n",
            "Increase the number of iterations (max_iter) or scale the data as shown in:\n",
            "    https://scikit-learn.org/stable/modules/preprocessing.html\n",
            "Please also refer to the documentation for alternative solver options:\n",
            "    https://scikit-learn.org/stable/modules/linear_model.html#logistic-regression\n",
            "  extra_warning_msg=_LOGISTIC_SOLVER_CONVERGENCE_MSG,\n",
            "/usr/local/lib/python3.7/dist-packages/sklearn/linear_model/_logistic.py:818: ConvergenceWarning: lbfgs failed to converge (status=1):\n",
            "STOP: TOTAL NO. of ITERATIONS REACHED LIMIT.\n",
            "\n",
            "Increase the number of iterations (max_iter) or scale the data as shown in:\n",
            "    https://scikit-learn.org/stable/modules/preprocessing.html\n",
            "Please also refer to the documentation for alternative solver options:\n",
            "    https://scikit-learn.org/stable/modules/linear_model.html#logistic-regression\n",
            "  extra_warning_msg=_LOGISTIC_SOLVER_CONVERGENCE_MSG,\n",
            "/usr/local/lib/python3.7/dist-packages/sklearn/linear_model/_logistic.py:818: ConvergenceWarning: lbfgs failed to converge (status=1):\n",
            "STOP: TOTAL NO. of ITERATIONS REACHED LIMIT.\n",
            "\n",
            "Increase the number of iterations (max_iter) or scale the data as shown in:\n",
            "    https://scikit-learn.org/stable/modules/preprocessing.html\n",
            "Please also refer to the documentation for alternative solver options:\n",
            "    https://scikit-learn.org/stable/modules/linear_model.html#logistic-regression\n",
            "  extra_warning_msg=_LOGISTIC_SOLVER_CONVERGENCE_MSG,\n",
            "/usr/local/lib/python3.7/dist-packages/sklearn/linear_model/_logistic.py:818: ConvergenceWarning: lbfgs failed to converge (status=1):\n",
            "STOP: TOTAL NO. of ITERATIONS REACHED LIMIT.\n",
            "\n",
            "Increase the number of iterations (max_iter) or scale the data as shown in:\n",
            "    https://scikit-learn.org/stable/modules/preprocessing.html\n",
            "Please also refer to the documentation for alternative solver options:\n",
            "    https://scikit-learn.org/stable/modules/linear_model.html#logistic-regression\n",
            "  extra_warning_msg=_LOGISTIC_SOLVER_CONVERGENCE_MSG,\n",
            "/usr/local/lib/python3.7/dist-packages/sklearn/linear_model/_logistic.py:818: ConvergenceWarning: lbfgs failed to converge (status=1):\n",
            "STOP: TOTAL NO. of ITERATIONS REACHED LIMIT.\n",
            "\n",
            "Increase the number of iterations (max_iter) or scale the data as shown in:\n",
            "    https://scikit-learn.org/stable/modules/preprocessing.html\n",
            "Please also refer to the documentation for alternative solver options:\n",
            "    https://scikit-learn.org/stable/modules/linear_model.html#logistic-regression\n",
            "  extra_warning_msg=_LOGISTIC_SOLVER_CONVERGENCE_MSG,\n",
            "/usr/local/lib/python3.7/dist-packages/sklearn/linear_model/_logistic.py:818: ConvergenceWarning: lbfgs failed to converge (status=1):\n",
            "STOP: TOTAL NO. of ITERATIONS REACHED LIMIT.\n",
            "\n",
            "Increase the number of iterations (max_iter) or scale the data as shown in:\n",
            "    https://scikit-learn.org/stable/modules/preprocessing.html\n",
            "Please also refer to the documentation for alternative solver options:\n",
            "    https://scikit-learn.org/stable/modules/linear_model.html#logistic-regression\n",
            "  extra_warning_msg=_LOGISTIC_SOLVER_CONVERGENCE_MSG,\n",
            "/usr/local/lib/python3.7/dist-packages/sklearn/linear_model/_logistic.py:818: ConvergenceWarning: lbfgs failed to converge (status=1):\n",
            "STOP: TOTAL NO. of ITERATIONS REACHED LIMIT.\n",
            "\n",
            "Increase the number of iterations (max_iter) or scale the data as shown in:\n",
            "    https://scikit-learn.org/stable/modules/preprocessing.html\n",
            "Please also refer to the documentation for alternative solver options:\n",
            "    https://scikit-learn.org/stable/modules/linear_model.html#logistic-regression\n",
            "  extra_warning_msg=_LOGISTIC_SOLVER_CONVERGENCE_MSG,\n",
            "/usr/local/lib/python3.7/dist-packages/sklearn/linear_model/_logistic.py:818: ConvergenceWarning: lbfgs failed to converge (status=1):\n",
            "STOP: TOTAL NO. of ITERATIONS REACHED LIMIT.\n",
            "\n",
            "Increase the number of iterations (max_iter) or scale the data as shown in:\n",
            "    https://scikit-learn.org/stable/modules/preprocessing.html\n",
            "Please also refer to the documentation for alternative solver options:\n",
            "    https://scikit-learn.org/stable/modules/linear_model.html#logistic-regression\n",
            "  extra_warning_msg=_LOGISTIC_SOLVER_CONVERGENCE_MSG,\n",
            "/usr/local/lib/python3.7/dist-packages/sklearn/linear_model/_logistic.py:818: ConvergenceWarning: lbfgs failed to converge (status=1):\n",
            "STOP: TOTAL NO. of ITERATIONS REACHED LIMIT.\n",
            "\n",
            "Increase the number of iterations (max_iter) or scale the data as shown in:\n",
            "    https://scikit-learn.org/stable/modules/preprocessing.html\n",
            "Please also refer to the documentation for alternative solver options:\n",
            "    https://scikit-learn.org/stable/modules/linear_model.html#logistic-regression\n",
            "  extra_warning_msg=_LOGISTIC_SOLVER_CONVERGENCE_MSG,\n",
            "/usr/local/lib/python3.7/dist-packages/sklearn/linear_model/_logistic.py:818: ConvergenceWarning: lbfgs failed to converge (status=1):\n",
            "STOP: TOTAL NO. of ITERATIONS REACHED LIMIT.\n",
            "\n",
            "Increase the number of iterations (max_iter) or scale the data as shown in:\n",
            "    https://scikit-learn.org/stable/modules/preprocessing.html\n",
            "Please also refer to the documentation for alternative solver options:\n",
            "    https://scikit-learn.org/stable/modules/linear_model.html#logistic-regression\n",
            "  extra_warning_msg=_LOGISTIC_SOLVER_CONVERGENCE_MSG,\n",
            "/usr/local/lib/python3.7/dist-packages/sklearn/linear_model/_logistic.py:818: ConvergenceWarning: lbfgs failed to converge (status=1):\n",
            "STOP: TOTAL NO. of ITERATIONS REACHED LIMIT.\n",
            "\n",
            "Increase the number of iterations (max_iter) or scale the data as shown in:\n",
            "    https://scikit-learn.org/stable/modules/preprocessing.html\n",
            "Please also refer to the documentation for alternative solver options:\n",
            "    https://scikit-learn.org/stable/modules/linear_model.html#logistic-regression\n",
            "  extra_warning_msg=_LOGISTIC_SOLVER_CONVERGENCE_MSG,\n",
            "/usr/local/lib/python3.7/dist-packages/sklearn/linear_model/_logistic.py:818: ConvergenceWarning: lbfgs failed to converge (status=1):\n",
            "STOP: TOTAL NO. of ITERATIONS REACHED LIMIT.\n",
            "\n",
            "Increase the number of iterations (max_iter) or scale the data as shown in:\n",
            "    https://scikit-learn.org/stable/modules/preprocessing.html\n",
            "Please also refer to the documentation for alternative solver options:\n",
            "    https://scikit-learn.org/stable/modules/linear_model.html#logistic-regression\n",
            "  extra_warning_msg=_LOGISTIC_SOLVER_CONVERGENCE_MSG,\n",
            "/usr/local/lib/python3.7/dist-packages/sklearn/linear_model/_logistic.py:818: ConvergenceWarning: lbfgs failed to converge (status=1):\n",
            "STOP: TOTAL NO. of ITERATIONS REACHED LIMIT.\n",
            "\n",
            "Increase the number of iterations (max_iter) or scale the data as shown in:\n",
            "    https://scikit-learn.org/stable/modules/preprocessing.html\n",
            "Please also refer to the documentation for alternative solver options:\n",
            "    https://scikit-learn.org/stable/modules/linear_model.html#logistic-regression\n",
            "  extra_warning_msg=_LOGISTIC_SOLVER_CONVERGENCE_MSG,\n",
            "/usr/local/lib/python3.7/dist-packages/sklearn/linear_model/_logistic.py:818: ConvergenceWarning: lbfgs failed to converge (status=1):\n",
            "STOP: TOTAL NO. of ITERATIONS REACHED LIMIT.\n",
            "\n",
            "Increase the number of iterations (max_iter) or scale the data as shown in:\n",
            "    https://scikit-learn.org/stable/modules/preprocessing.html\n",
            "Please also refer to the documentation for alternative solver options:\n",
            "    https://scikit-learn.org/stable/modules/linear_model.html#logistic-regression\n",
            "  extra_warning_msg=_LOGISTIC_SOLVER_CONVERGENCE_MSG,\n",
            "/usr/local/lib/python3.7/dist-packages/sklearn/linear_model/_logistic.py:818: ConvergenceWarning: lbfgs failed to converge (status=1):\n",
            "STOP: TOTAL NO. of ITERATIONS REACHED LIMIT.\n",
            "\n",
            "Increase the number of iterations (max_iter) or scale the data as shown in:\n",
            "    https://scikit-learn.org/stable/modules/preprocessing.html\n",
            "Please also refer to the documentation for alternative solver options:\n",
            "    https://scikit-learn.org/stable/modules/linear_model.html#logistic-regression\n",
            "  extra_warning_msg=_LOGISTIC_SOLVER_CONVERGENCE_MSG,\n",
            "/usr/local/lib/python3.7/dist-packages/sklearn/linear_model/_logistic.py:818: ConvergenceWarning: lbfgs failed to converge (status=1):\n",
            "STOP: TOTAL NO. of ITERATIONS REACHED LIMIT.\n",
            "\n",
            "Increase the number of iterations (max_iter) or scale the data as shown in:\n",
            "    https://scikit-learn.org/stable/modules/preprocessing.html\n",
            "Please also refer to the documentation for alternative solver options:\n",
            "    https://scikit-learn.org/stable/modules/linear_model.html#logistic-regression\n",
            "  extra_warning_msg=_LOGISTIC_SOLVER_CONVERGENCE_MSG,\n"
          ]
        },
        {
          "output_type": "stream",
          "name": "stdout",
          "text": [
            "Best Penalty: l2\n",
            "Best C: 2.7825594022071245\n"
          ]
        },
        {
          "output_type": "stream",
          "name": "stderr",
          "text": [
            "/usr/local/lib/python3.7/dist-packages/sklearn/model_selection/_validation.py:372: FitFailedWarning: \n",
            "50 fits failed out of a total of 100.\n",
            "The score on these train-test partitions for these parameters will be set to nan.\n",
            "If these failures are not expected, you can try to debug them by setting error_score='raise'.\n",
            "\n",
            "Below are more details about the failures:\n",
            "--------------------------------------------------------------------------------\n",
            "50 fits failed with the following error:\n",
            "Traceback (most recent call last):\n",
            "  File \"/usr/local/lib/python3.7/dist-packages/sklearn/model_selection/_validation.py\", line 680, in _fit_and_score\n",
            "    estimator.fit(X_train, y_train, **fit_params)\n",
            "  File \"/usr/local/lib/python3.7/dist-packages/sklearn/linear_model/_logistic.py\", line 1461, in fit\n",
            "    solver = _check_solver(self.solver, self.penalty, self.dual)\n",
            "  File \"/usr/local/lib/python3.7/dist-packages/sklearn/linear_model/_logistic.py\", line 449, in _check_solver\n",
            "    % (solver, penalty)\n",
            "ValueError: Solver lbfgs supports only 'l2' or 'none' penalties, got l1 penalty.\n",
            "\n",
            "  warnings.warn(some_fits_failed_message, FitFailedWarning)\n",
            "/usr/local/lib/python3.7/dist-packages/sklearn/model_selection/_search.py:972: UserWarning: One or more of the test scores are non-finite: [       nan 0.95555556        nan 0.96666667        nan 0.96111111\n",
            "        nan 0.96666667        nan 0.96111111        nan 0.95555556\n",
            "        nan 0.95555556        nan 0.95              nan 0.95\n",
            "        nan 0.96095238]\n",
            "  category=UserWarning,\n",
            "/usr/local/lib/python3.7/dist-packages/sklearn/linear_model/_logistic.py:818: ConvergenceWarning: lbfgs failed to converge (status=1):\n",
            "STOP: TOTAL NO. of ITERATIONS REACHED LIMIT.\n",
            "\n",
            "Increase the number of iterations (max_iter) or scale the data as shown in:\n",
            "    https://scikit-learn.org/stable/modules/preprocessing.html\n",
            "Please also refer to the documentation for alternative solver options:\n",
            "    https://scikit-learn.org/stable/modules/linear_model.html#logistic-regression\n",
            "  extra_warning_msg=_LOGISTIC_SOLVER_CONVERGENCE_MSG,\n"
          ]
        }
      ]
    },
    {
      "cell_type": "code",
      "execution_count": 143,
      "metadata": {
        "colab": {
          "base_uri": "https://localhost:8080/"
        },
        "id": "bC0_DAq4kHkc",
        "outputId": "ced290b1-8c13-46ee-a4e3-eb33e19b744b"
      },
      "outputs": [
        {
          "output_type": "stream",
          "name": "stdout",
          "text": [
            "Hidden layer sizes: (10, 10), validation accuracy: 0.8\n",
            "Grid search done!\n"
          ]
        },
        {
          "output_type": "stream",
          "name": "stderr",
          "text": [
            "/usr/local/lib/python3.7/dist-packages/sklearn/neural_network/_multilayer_perceptron.py:696: ConvergenceWarning: Stochastic Optimizer: Maximum iterations (200) reached and the optimization hasn't converged yet.\n",
            "  ConvergenceWarning,\n"
          ]
        }
      ],
      "source": [
        "# Create the NN classifier\n",
        "from sklearn.model_selection import GridSearchCV\n",
        "import sklearn.neural_network\n",
        "\n",
        "# TODO: Perform grid search to find the number of layers, the number of neurons\n",
        "#       in each layer, etc.\n",
        "\n",
        "# Set the maximum and minimum number of neurons for each layer.\n",
        "hidden_layer_sizes_min = [20, 10]\n",
        "hidden_layer_sizes_max = [30, 20]\n",
        "# TODO: Try different numbers of layers and different numbers of neurons.\n",
        "\n",
        "# TODO: You may have to test other hyper-parameters than just the number of\n",
        "#       layers and the number of artificial neurons in each layer. It might be\n",
        "#       worth varying the learning rate as well, for instance.\n",
        "\n",
        "errs_val = {}\n",
        "num_neurons_1 = 10\n",
        "num_neurons_2 = 10\n",
        "# num_neurons_3 = 100\n",
        "hidden_layer_sizes = (num_neurons_1, num_neurons_2)  # , num_neurons_3)\n",
        "model = sklearn.neural_network.MLPClassifier(\n",
        "    hidden_layer_sizes=hidden_layer_sizes,\n",
        "    activation='relu',\n",
        "    alpha=0.0001,\n",
        "    batch_size='auto',\n",
        "    learning_rate_init=0.001,\n",
        "    max_iter=200,\n",
        ")\n",
        "# TODO: The computations may take a long time here as well. Play with\n",
        "#       different amounts of data to see what's feasible on your\n",
        "#       computer. Get it to work on a small amount of data first, and\n",
        "#       then run for a longer time with more data. More data here will\n",
        "#       improve the results. Using all data may take a long time, but\n",
        "#       will give good results.\n",
        "model.fit(Xtrain[:5000, :], ytrain[:5000])\n",
        "# NOTE: You need to adjust this when you extend your search space and also consider\n",
        "# hyperparameters like learning rate\n",
        "err = model.score(Xval[:100, :], yval[:100])\n",
        "print(f\"Hidden layer sizes: {hidden_layer_sizes}, \"\n",
        "        f\"validation accuracy: {err}\")\n",
        "errs_val[hidden_layer_sizes] = err\n",
        "\n",
        "print(\"Grid search done!\")"
      ]
    },
    {
      "cell_type": "markdown",
      "source": [
        "Grid-search is used to find the optimal hyperparameters of a model which results in the most ‘accurate’ predictions."
      ],
      "metadata": {
        "id": "hbCQlkeDQ2P8"
      }
    },
    {
      "cell_type": "code",
      "source": [
        "\n",
        "import keras\n",
        "from keras.datasets import mnist\n",
        "\n",
        "# Setup train and test splits\n",
        "'''(Xtrain, ytrain), (Xtest, ytest) = mnist,load_data()\n",
        "print(\"Training label shape: \", ytrain,shape) # (60000,) -- 60000 numbers (all 0-9)\n",
        "print(\"First 5 training labels: \", ytrain[:5]) # [5, 0, 4, 1, 9]\n",
        "\n",
        "# Convert to \"one-hot\" vectors using the to_categorical function\n",
        "num_classes = 10\n",
        "y_train = keras,utils,to_categorical(ytrain, num_classes)\n",
        "y_test = keras,utils,to_categorical(ytest, num_classes)\n",
        "print(\"First 5 training lables as one-hot encoded vectors:\\n\", y_train[:5])\n",
        "\n",
        "\n",
        "from keras.layers import Dense # Dense layers are \"fully connected\" layers\n",
        "from keras.models import Sequential # Documentation: https://keras.io/models/sequential/\n",
        "\n",
        "image_size = 784 # 28*28\n",
        "num_classes = 10 # ten unique digits\n",
        "\n",
        "model = Sequential()\n",
        "\n",
        "# The input layer requires the special input_shape parameter which should match\n",
        "# the shape of our training data.\n",
        "model.add(Dense(units=32, activation='sigmoid', input_shape=(image_size,)))\n",
        "model.add(Dense(units=num_classes, activation='softmax'))\n",
        "model.summary()"
      ],
      "metadata": {
        "colab": {
          "base_uri": "https://localhost:8080/",
          "height": 236
        },
        "id": "b_XnKNubVUkx",
        "outputId": "34107ad9-4296-4313-81a0-00639b938017"
      },
      "execution_count": 39,
      "outputs": [
        {
          "output_type": "error",
          "ename": "NameError",
          "evalue": "ignored",
          "traceback": [
            "\u001b[0;31m---------------------------------------------------------------------------\u001b[0m",
            "\u001b[0;31mNameError\u001b[0m                                 Traceback (most recent call last)",
            "\u001b[0;32m<ipython-input-39-63b1ac533e6c>\u001b[0m in \u001b[0;36m<module>\u001b[0;34m\u001b[0m\n\u001b[1;32m      9\u001b[0m \u001b[0;31m# Convert to \"one-hot\" vectors using the to_categorical function\u001b[0m\u001b[0;34m\u001b[0m\u001b[0;34m\u001b[0m\u001b[0;34m\u001b[0m\u001b[0m\n\u001b[1;32m     10\u001b[0m \u001b[0mnum_classes\u001b[0m \u001b[0;34m=\u001b[0m \u001b[0;36m10\u001b[0m\u001b[0;34m\u001b[0m\u001b[0;34m\u001b[0m\u001b[0m\n\u001b[0;32m---> 11\u001b[0;31m \u001b[0my_train\u001b[0m \u001b[0;34m=\u001b[0m \u001b[0mkeras\u001b[0m\u001b[0;34m,\u001b[0m\u001b[0mutils\u001b[0m\u001b[0;34m,\u001b[0m\u001b[0mto_categorical\u001b[0m\u001b[0;34m(\u001b[0m\u001b[0mytrain\u001b[0m\u001b[0;34m,\u001b[0m \u001b[0mnum_classes\u001b[0m\u001b[0;34m)\u001b[0m\u001b[0;34m\u001b[0m\u001b[0;34m\u001b[0m\u001b[0m\n\u001b[0m\u001b[1;32m     12\u001b[0m \u001b[0my_test\u001b[0m \u001b[0;34m=\u001b[0m \u001b[0mkeras\u001b[0m\u001b[0;34m,\u001b[0m\u001b[0mutils\u001b[0m\u001b[0;34m,\u001b[0m\u001b[0mto_categorical\u001b[0m\u001b[0;34m(\u001b[0m\u001b[0mytest\u001b[0m\u001b[0;34m,\u001b[0m \u001b[0mnum_classes\u001b[0m\u001b[0;34m)\u001b[0m\u001b[0;34m\u001b[0m\u001b[0;34m\u001b[0m\u001b[0m\n\u001b[1;32m     13\u001b[0m \u001b[0mprint\u001b[0m\u001b[0;34m(\u001b[0m\u001b[0;34m\"First 5 training lables as one-hot encoded vectors:\\n\"\u001b[0m\u001b[0;34m,\u001b[0m \u001b[0my_train\u001b[0m\u001b[0;34m[\u001b[0m\u001b[0;34m:\u001b[0m\u001b[0;36m5\u001b[0m\u001b[0;34m]\u001b[0m\u001b[0;34m)\u001b[0m\u001b[0;34m\u001b[0m\u001b[0;34m\u001b[0m\u001b[0m\n",
            "\u001b[0;31mNameError\u001b[0m: name 'utils' is not defined"
          ]
        }
      ]
    },
    {
      "cell_type": "code",
      "source": [
        "model.compile(optimizer=\"sgd\", loss='categorical_crossentropy', metrics=['accuracy'])\n",
        "history = model.fit(Xtrain, ytrain, batch_size=128, epochs=5, verbose=False, validation_split=.1)\n",
        "loss, accuracy  = model.evaluate(Xtest, ytest, verbose=False)\n",
        "\n",
        "plt.plot(history.history['acc'])\n",
        "plt.plot(history.history['val_acc'])\n",
        "plt.title('model accuracy')\n",
        "plt.ylabel('accuracy')\n",
        "plt.xlabel('epoch')\n",
        "plt.legend(['training', 'validation'], loc='best')\n",
        "plt.show()\n",
        "\n",
        "print(f'Test loss: {loss:.3}')\n",
        "print(f'Test accuracy: {accuracy:.3}')"
      ],
      "metadata": {
        "colab": {
          "base_uri": "https://localhost:8080/",
          "height": 607
        },
        "id": "g0ST2U4XUh51",
        "outputId": "53f7a984-6583-4589-c846-2da6211af692"
      },
      "execution_count": 38,
      "outputs": [
        {
          "output_type": "error",
          "ename": "ValueError",
          "evalue": "ignored",
          "traceback": [
            "\u001b[0;31m---------------------------------------------------------------------------\u001b[0m",
            "\u001b[0;31mValueError\u001b[0m                                Traceback (most recent call last)",
            "\u001b[0;32m<ipython-input-38-65f98237d17e>\u001b[0m in \u001b[0;36m<module>\u001b[0;34m\u001b[0m\n\u001b[1;32m      1\u001b[0m \u001b[0mmodel\u001b[0m\u001b[0;34m.\u001b[0m\u001b[0mcompile\u001b[0m\u001b[0;34m(\u001b[0m\u001b[0moptimizer\u001b[0m\u001b[0;34m=\u001b[0m\u001b[0;34m\"sgd\"\u001b[0m\u001b[0;34m,\u001b[0m \u001b[0mloss\u001b[0m\u001b[0;34m=\u001b[0m\u001b[0;34m'categorical_crossentropy'\u001b[0m\u001b[0;34m,\u001b[0m \u001b[0mmetrics\u001b[0m\u001b[0;34m=\u001b[0m\u001b[0;34m[\u001b[0m\u001b[0;34m'accuracy'\u001b[0m\u001b[0;34m]\u001b[0m\u001b[0;34m)\u001b[0m\u001b[0;34m\u001b[0m\u001b[0;34m\u001b[0m\u001b[0m\n\u001b[0;32m----> 2\u001b[0;31m \u001b[0mhistory\u001b[0m \u001b[0;34m=\u001b[0m \u001b[0mmodel\u001b[0m\u001b[0;34m.\u001b[0m\u001b[0mfit\u001b[0m\u001b[0;34m(\u001b[0m\u001b[0mXtrain\u001b[0m\u001b[0;34m,\u001b[0m \u001b[0mbatch_size\u001b[0m\u001b[0;34m=\u001b[0m\u001b[0;36m128\u001b[0m\u001b[0;34m,\u001b[0m \u001b[0mepochs\u001b[0m\u001b[0;34m=\u001b[0m\u001b[0;36m5\u001b[0m\u001b[0;34m,\u001b[0m \u001b[0mverbose\u001b[0m\u001b[0;34m=\u001b[0m\u001b[0;32mFalse\u001b[0m\u001b[0;34m,\u001b[0m \u001b[0mvalidation_split\u001b[0m\u001b[0;34m=\u001b[0m\u001b[0;36m.1\u001b[0m\u001b[0;34m)\u001b[0m\u001b[0;34m\u001b[0m\u001b[0;34m\u001b[0m\u001b[0m\n\u001b[0m\u001b[1;32m      3\u001b[0m \u001b[0mloss\u001b[0m\u001b[0;34m,\u001b[0m \u001b[0maccuracy\u001b[0m  \u001b[0;34m=\u001b[0m \u001b[0mmodel\u001b[0m\u001b[0;34m.\u001b[0m\u001b[0mevaluate\u001b[0m\u001b[0;34m(\u001b[0m\u001b[0mXtest\u001b[0m\u001b[0;34m,\u001b[0m \u001b[0mytest\u001b[0m\u001b[0;34m,\u001b[0m \u001b[0mverbose\u001b[0m\u001b[0;34m=\u001b[0m\u001b[0;32mFalse\u001b[0m\u001b[0;34m)\u001b[0m\u001b[0;34m\u001b[0m\u001b[0;34m\u001b[0m\u001b[0m\n\u001b[1;32m      4\u001b[0m \u001b[0;34m\u001b[0m\u001b[0m\n\u001b[1;32m      5\u001b[0m \u001b[0mplt\u001b[0m\u001b[0;34m.\u001b[0m\u001b[0mplot\u001b[0m\u001b[0;34m(\u001b[0m\u001b[0mhistory\u001b[0m\u001b[0;34m.\u001b[0m\u001b[0mhistory\u001b[0m\u001b[0;34m[\u001b[0m\u001b[0;34m'acc'\u001b[0m\u001b[0;34m]\u001b[0m\u001b[0;34m)\u001b[0m\u001b[0;34m\u001b[0m\u001b[0;34m\u001b[0m\u001b[0m\n",
            "\u001b[0;32m/usr/local/lib/python3.7/dist-packages/keras/utils/traceback_utils.py\u001b[0m in \u001b[0;36merror_handler\u001b[0;34m(*args, **kwargs)\u001b[0m\n\u001b[1;32m     65\u001b[0m     \u001b[0;32mexcept\u001b[0m \u001b[0mException\u001b[0m \u001b[0;32mas\u001b[0m \u001b[0me\u001b[0m\u001b[0;34m:\u001b[0m  \u001b[0;31m# pylint: disable=broad-except\u001b[0m\u001b[0;34m\u001b[0m\u001b[0;34m\u001b[0m\u001b[0m\n\u001b[1;32m     66\u001b[0m       \u001b[0mfiltered_tb\u001b[0m \u001b[0;34m=\u001b[0m \u001b[0m_process_traceback_frames\u001b[0m\u001b[0;34m(\u001b[0m\u001b[0me\u001b[0m\u001b[0;34m.\u001b[0m\u001b[0m__traceback__\u001b[0m\u001b[0;34m)\u001b[0m\u001b[0;34m\u001b[0m\u001b[0;34m\u001b[0m\u001b[0m\n\u001b[0;32m---> 67\u001b[0;31m       \u001b[0;32mraise\u001b[0m \u001b[0me\u001b[0m\u001b[0;34m.\u001b[0m\u001b[0mwith_traceback\u001b[0m\u001b[0;34m(\u001b[0m\u001b[0mfiltered_tb\u001b[0m\u001b[0;34m)\u001b[0m \u001b[0;32mfrom\u001b[0m \u001b[0;32mNone\u001b[0m\u001b[0;34m\u001b[0m\u001b[0;34m\u001b[0m\u001b[0m\n\u001b[0m\u001b[1;32m     68\u001b[0m     \u001b[0;32mfinally\u001b[0m\u001b[0;34m:\u001b[0m\u001b[0;34m\u001b[0m\u001b[0;34m\u001b[0m\u001b[0m\n\u001b[1;32m     69\u001b[0m       \u001b[0;32mdel\u001b[0m \u001b[0mfiltered_tb\u001b[0m\u001b[0;34m\u001b[0m\u001b[0;34m\u001b[0m\u001b[0m\n",
            "\u001b[0;32m/usr/local/lib/python3.7/dist-packages/tensorflow/python/framework/func_graph.py\u001b[0m in \u001b[0;36mautograph_handler\u001b[0;34m(*args, **kwargs)\u001b[0m\n\u001b[1;32m   1145\u001b[0m           \u001b[0;32mexcept\u001b[0m \u001b[0mException\u001b[0m \u001b[0;32mas\u001b[0m \u001b[0me\u001b[0m\u001b[0;34m:\u001b[0m  \u001b[0;31m# pylint:disable=broad-except\u001b[0m\u001b[0;34m\u001b[0m\u001b[0;34m\u001b[0m\u001b[0m\n\u001b[1;32m   1146\u001b[0m             \u001b[0;32mif\u001b[0m \u001b[0mhasattr\u001b[0m\u001b[0;34m(\u001b[0m\u001b[0me\u001b[0m\u001b[0;34m,\u001b[0m \u001b[0;34m\"ag_error_metadata\"\u001b[0m\u001b[0;34m)\u001b[0m\u001b[0;34m:\u001b[0m\u001b[0;34m\u001b[0m\u001b[0;34m\u001b[0m\u001b[0m\n\u001b[0;32m-> 1147\u001b[0;31m               \u001b[0;32mraise\u001b[0m \u001b[0me\u001b[0m\u001b[0;34m.\u001b[0m\u001b[0mag_error_metadata\u001b[0m\u001b[0;34m.\u001b[0m\u001b[0mto_exception\u001b[0m\u001b[0;34m(\u001b[0m\u001b[0me\u001b[0m\u001b[0;34m)\u001b[0m\u001b[0;34m\u001b[0m\u001b[0;34m\u001b[0m\u001b[0m\n\u001b[0m\u001b[1;32m   1148\u001b[0m             \u001b[0;32melse\u001b[0m\u001b[0;34m:\u001b[0m\u001b[0;34m\u001b[0m\u001b[0;34m\u001b[0m\u001b[0m\n\u001b[1;32m   1149\u001b[0m               \u001b[0;32mraise\u001b[0m\u001b[0;34m\u001b[0m\u001b[0;34m\u001b[0m\u001b[0m\n",
            "\u001b[0;31mValueError\u001b[0m: in user code:\n\n    File \"/usr/local/lib/python3.7/dist-packages/keras/engine/training.py\", line 1021, in train_function  *\n        return step_function(self, iterator)\n    File \"/usr/local/lib/python3.7/dist-packages/keras/engine/training.py\", line 1010, in step_function  **\n        outputs = model.distribute_strategy.run(run_step, args=(data,))\n    File \"/usr/local/lib/python3.7/dist-packages/keras/engine/training.py\", line 1000, in run_step  **\n        outputs = model.train_step(data)\n    File \"/usr/local/lib/python3.7/dist-packages/keras/engine/training.py\", line 861, in train_step\n        self._validate_target_and_loss(y, loss)\n    File \"/usr/local/lib/python3.7/dist-packages/keras/engine/training.py\", line 819, in _validate_target_and_loss\n        'Target data is missing. Your model was compiled with '\n\n    ValueError: Target data is missing. Your model was compiled with loss=categorical_crossentropy, and therefore expects target data to be provided in `fit()`.\n"
          ]
        }
      ]
    },
    {
      "cell_type": "code",
      "source": [],
      "metadata": {
        "id": "OGNhohZZVSg4"
      },
      "execution_count": null,
      "outputs": []
    },
    {
      "cell_type": "code",
      "source": [
        "'''neurons=[3, 5]\n",
        "param_grid = dict(n_neurons=neurons)\n",
        "grid_values = {'penalty': ['l1', 'l2'],'C':[0.001,.009,0.01,.09,1,5,10,25]}\n",
        "\n",
        "grid = GridSearchCV(estimator=model, \n",
        "                    param_grid=grid_values, n_jobs=-1, cv=5)\n",
        "grid.fit(Xtrain, ytrain)\n",
        "# NOTE: You need to adjust this when you extend your search space and also consider\n",
        "# hyperparameters like learning rate\n",
        "\n",
        "\n",
        "#Predict values based on new parameters\n",
        "y_pred_acc = grid.predict(Xtest)\n",
        "\n",
        "err = model.score(Xval[:10000, :], yval[:10000])\n",
        "print(f\"Hidden layer sizes: {hidden_layer_sizes}, \"\n",
        "        f\"validation accuracy: {err}\")\n",
        "errs_val[hidden_layer_sizes] = err\n",
        "\n",
        "print(\"Grid search done!\")'''"
      ],
      "metadata": {
        "colab": {
          "base_uri": "https://localhost:8080/",
          "height": 381
        },
        "id": "ebLHEQ-UPROz",
        "outputId": "1962eb4b-516b-40b1-9a08-a8125eec327b"
      },
      "execution_count": 25,
      "outputs": [
        {
          "output_type": "error",
          "ename": "AttributeError",
          "evalue": "ignored",
          "traceback": [
            "\u001b[0;31m---------------------------------------------------------------------------\u001b[0m",
            "\u001b[0;31mAttributeError\u001b[0m                            Traceback (most recent call last)",
            "\u001b[0;32m<ipython-input-25-b857baf08347>\u001b[0m in \u001b[0;36m<module>\u001b[0;34m\u001b[0m\n\u001b[1;32m      3\u001b[0m \u001b[0mgrid_values\u001b[0m \u001b[0;34m=\u001b[0m \u001b[0;34m(\u001b[0m\u001b[0mnum_neurons_1\u001b[0m\u001b[0;34m,\u001b[0m \u001b[0mnum_neurons_2\u001b[0m\u001b[0;34m)\u001b[0m\u001b[0;34m\u001b[0m\u001b[0;34m\u001b[0m\u001b[0m\n\u001b[1;32m      4\u001b[0m \u001b[0;34m\u001b[0m\u001b[0m\n\u001b[0;32m----> 5\u001b[0;31m \u001b[0mgrid\u001b[0m \u001b[0;34m=\u001b[0m \u001b[0mGridSearchCV\u001b[0m\u001b[0;34m(\u001b[0m\u001b[0mestimator\u001b[0m\u001b[0;34m=\u001b[0m\u001b[0mmodel\u001b[0m\u001b[0;34m,\u001b[0m \u001b[0mparam_grid\u001b[0m\u001b[0;34m=\u001b[0m\u001b[0mgrid_values\u001b[0m\u001b[0;34m,\u001b[0m \u001b[0mn_jobs\u001b[0m\u001b[0;34m=\u001b[0m\u001b[0;34m-\u001b[0m\u001b[0;36m1\u001b[0m\u001b[0;34m,\u001b[0m \u001b[0mcv\u001b[0m\u001b[0;34m=\u001b[0m\u001b[0;36m5\u001b[0m\u001b[0;34m)\u001b[0m\u001b[0;34m\u001b[0m\u001b[0;34m\u001b[0m\u001b[0m\n\u001b[0m\u001b[1;32m      6\u001b[0m \u001b[0mgrid\u001b[0m\u001b[0;34m.\u001b[0m\u001b[0mfit\u001b[0m\u001b[0;34m(\u001b[0m\u001b[0mXtrain\u001b[0m\u001b[0;34m,\u001b[0m \u001b[0mytrain\u001b[0m\u001b[0;34m)\u001b[0m\u001b[0;34m\u001b[0m\u001b[0;34m\u001b[0m\u001b[0m\n\u001b[1;32m      7\u001b[0m \u001b[0;31m# NOTE: You need to adjust this when you extend your search space and also consider\u001b[0m\u001b[0;34m\u001b[0m\u001b[0;34m\u001b[0m\u001b[0;34m\u001b[0m\u001b[0m\n",
            "\u001b[0;32m/usr/local/lib/python3.7/dist-packages/sklearn/model_selection/_search.py\u001b[0m in \u001b[0;36m__init__\u001b[0;34m(self, estimator, param_grid, scoring, n_jobs, refit, cv, verbose, pre_dispatch, error_score, return_train_score)\u001b[0m\n\u001b[1;32m   1386\u001b[0m         )\n\u001b[1;32m   1387\u001b[0m         \u001b[0mself\u001b[0m\u001b[0;34m.\u001b[0m\u001b[0mparam_grid\u001b[0m \u001b[0;34m=\u001b[0m \u001b[0mparam_grid\u001b[0m\u001b[0;34m\u001b[0m\u001b[0;34m\u001b[0m\u001b[0m\n\u001b[0;32m-> 1388\u001b[0;31m         \u001b[0m_check_param_grid\u001b[0m\u001b[0;34m(\u001b[0m\u001b[0mparam_grid\u001b[0m\u001b[0;34m)\u001b[0m\u001b[0;34m\u001b[0m\u001b[0;34m\u001b[0m\u001b[0m\n\u001b[0m\u001b[1;32m   1389\u001b[0m \u001b[0;34m\u001b[0m\u001b[0m\n\u001b[1;32m   1390\u001b[0m     \u001b[0;32mdef\u001b[0m \u001b[0m_run_search\u001b[0m\u001b[0;34m(\u001b[0m\u001b[0mself\u001b[0m\u001b[0;34m,\u001b[0m \u001b[0mevaluate_candidates\u001b[0m\u001b[0;34m)\u001b[0m\u001b[0;34m:\u001b[0m\u001b[0;34m\u001b[0m\u001b[0;34m\u001b[0m\u001b[0m\n",
            "\u001b[0;32m/usr/local/lib/python3.7/dist-packages/sklearn/model_selection/_search.py\u001b[0m in \u001b[0;36m_check_param_grid\u001b[0;34m(param_grid)\u001b[0m\n\u001b[1;32m    327\u001b[0m \u001b[0;34m\u001b[0m\u001b[0m\n\u001b[1;32m    328\u001b[0m     \u001b[0;32mfor\u001b[0m \u001b[0mp\u001b[0m \u001b[0;32min\u001b[0m \u001b[0mparam_grid\u001b[0m\u001b[0;34m:\u001b[0m\u001b[0;34m\u001b[0m\u001b[0;34m\u001b[0m\u001b[0m\n\u001b[0;32m--> 329\u001b[0;31m         \u001b[0;32mfor\u001b[0m \u001b[0mname\u001b[0m\u001b[0;34m,\u001b[0m \u001b[0mv\u001b[0m \u001b[0;32min\u001b[0m \u001b[0mp\u001b[0m\u001b[0;34m.\u001b[0m\u001b[0mitems\u001b[0m\u001b[0;34m(\u001b[0m\u001b[0;34m)\u001b[0m\u001b[0;34m:\u001b[0m\u001b[0;34m\u001b[0m\u001b[0;34m\u001b[0m\u001b[0m\n\u001b[0m\u001b[1;32m    330\u001b[0m             \u001b[0;32mif\u001b[0m \u001b[0misinstance\u001b[0m\u001b[0;34m(\u001b[0m\u001b[0mv\u001b[0m\u001b[0;34m,\u001b[0m \u001b[0mnp\u001b[0m\u001b[0;34m.\u001b[0m\u001b[0mndarray\u001b[0m\u001b[0;34m)\u001b[0m \u001b[0;32mand\u001b[0m \u001b[0mv\u001b[0m\u001b[0;34m.\u001b[0m\u001b[0mndim\u001b[0m \u001b[0;34m>\u001b[0m \u001b[0;36m1\u001b[0m\u001b[0;34m:\u001b[0m\u001b[0;34m\u001b[0m\u001b[0;34m\u001b[0m\u001b[0m\n\u001b[1;32m    331\u001b[0m                 \u001b[0;32mraise\u001b[0m \u001b[0mValueError\u001b[0m\u001b[0;34m(\u001b[0m\u001b[0;34m\"Parameter array should be one-dimensional.\"\u001b[0m\u001b[0;34m)\u001b[0m\u001b[0;34m\u001b[0m\u001b[0;34m\u001b[0m\u001b[0m\n",
            "\u001b[0;31mAttributeError\u001b[0m: 'int' object has no attribute 'items'"
          ]
        }
      ]
    },
    {
      "cell_type": "code",
      "execution_count": 12,
      "metadata": {
        "colab": {
          "base_uri": "https://localhost:8080/",
          "height": 0
        },
        "id": "29OqeZmELELJ",
        "outputId": "3e5b27b7-d95c-4b03-cd2c-9d83edc682b8"
      },
      "outputs": [
        {
          "output_type": "stream",
          "name": "stdout",
          "text": [
            "The best value was 0.9664285714285714, found using layer sizes: (100, 100).\n",
            "Final validation accuracy: 0.9701428571428572\n"
          ]
        }
      ],
      "source": [
        "# Train the final model using the best layer sizes\n",
        "\n",
        "hidden_layer_sizes_best = max(errs_val, key=errs_val.get, default='')\n",
        "print(f\"The best value was {errs_val[hidden_layer_sizes_best]}, \"\n",
        "      f\"found using layer sizes: {hidden_layer_sizes_best}.\")\n",
        "\n",
        "model_ann = sklearn.neural_network.MLPClassifier(\n",
        "    hidden_layer_sizes=hidden_layer_sizes_best,\n",
        "    alpha=0.0001,\n",
        "    batch_size='auto',\n",
        "    learning_rate_init=0.001,\n",
        "    max_iter=200,\n",
        ")\n",
        "\n",
        "model_ann.fit(Xtrain[:50000, :], ytrain[:50000])\n",
        "err = model_ann.score(Xval[:10000, :], yval[:10000])\n",
        "\n",
        "print(f\"Final validation accuracy: {err}\")"
      ]
    },
    {
      "cell_type": "markdown",
      "metadata": {
        "id": "_iqH_Kj24hDG"
      },
      "source": [
        "Once we have selected our final model, we can compute the test error on the final models as the last thing we do. Make sure to only do this at the very end, after you have selected the best models you can find."
      ]
    },
    {
      "cell_type": "code",
      "execution_count": 13,
      "metadata": {
        "colab": {
          "base_uri": "https://localhost:8080/",
          "height": 236
        },
        "id": "vuQfK309lkf4",
        "outputId": "6f7d22ef-79ed-434a-b16d-d68060efd28b"
      },
      "outputs": [
        {
          "output_type": "error",
          "ename": "NameError",
          "evalue": "ignored",
          "traceback": [
            "\u001b[0;31m---------------------------------------------------------------------------\u001b[0m",
            "\u001b[0;31mNameError\u001b[0m                                 Traceback (most recent call last)",
            "\u001b[0;32m<ipython-input-13-84b09a7ed8a4>\u001b[0m in \u001b[0;36m<module>\u001b[0;34m\u001b[0m\n\u001b[1;32m      5\u001b[0m \u001b[0;31m# dataset. (Or, if you keep your test data set, then your results are biased and\u001b[0m\u001b[0;34m\u001b[0m\u001b[0;34m\u001b[0m\u001b[0;34m\u001b[0m\u001b[0m\n\u001b[1;32m      6\u001b[0m \u001b[0;31m# by that unreliable.)\u001b[0m\u001b[0;34m\u001b[0m\u001b[0;34m\u001b[0m\u001b[0;34m\u001b[0m\u001b[0m\n\u001b[0;32m----> 7\u001b[0;31m \u001b[0mprint\u001b[0m\u001b[0;34m(\u001b[0m\u001b[0;34mf\"k-NN model training data accuracy  : {model_knn.score(Xtrain, ytrain)}\"\u001b[0m\u001b[0;34m)\u001b[0m\u001b[0;34m\u001b[0m\u001b[0;34m\u001b[0m\u001b[0m\n\u001b[0m\u001b[1;32m      8\u001b[0m \u001b[0mprint\u001b[0m\u001b[0;34m(\u001b[0m\u001b[0;34mf\"k-NN model validation data accuracy: {model_knn.score(Xval, yval)}\"\u001b[0m\u001b[0;34m)\u001b[0m\u001b[0;34m\u001b[0m\u001b[0;34m\u001b[0m\u001b[0m\n\u001b[1;32m      9\u001b[0m \u001b[0;32mif\u001b[0m \u001b[0;32mFalse\u001b[0m\u001b[0;34m:\u001b[0m  \u001b[0;31m# Change this to True as the very last thing you do!\u001b[0m\u001b[0;34m\u001b[0m\u001b[0;34m\u001b[0m\u001b[0m\n",
            "\u001b[0;31mNameError\u001b[0m: name 'model_knn' is not defined"
          ]
        }
      ],
      "source": [
        "# Evaluate the final model on all the data sets, including the test data. We\n",
        "# only evaluate the test data once, and as the last thing we do. If you train\n",
        "# another model after this, based on the performance on the test data, then your\n",
        "# test data is effectively a validation dataset, and you no longer have a test\n",
        "# dataset. (Or, if you keep your test data set, then your results are biased and\n",
        "# by that unreliable.)\n",
        "print(f\"k-NN model training data accuracy  : {model_knn.score(Xtrain, ytrain)}\")\n",
        "print(f\"k-NN model validation data accuracy: {model_knn.score(Xval, yval)}\")\n",
        "if False:  # Change this to True as the very last thing you do!\n",
        "    print(f\"k-NN model test data accuracy      : \"\n",
        "          f\"{model_knn.score(Xtest, ytest)}\")\n",
        "\n",
        "print(f\"ANN model training data accuracy   : {model_ann.score(Xtrain, ytrain)}\")\n",
        "print(f\"ANN model validation data accuracy : {model_ann.score(Xval, yval)}\")\n",
        "if False:  # Change this to True as the very last thing you do!\n",
        "    print(f\"ANN model test data accuracy       : \"\n",
        "          f\"{model_ann.score(Xtest, ytest)}\")"
      ]
    }
  ],
  "metadata": {
    "colab": {
      "collapsed_sections": [],
      "provenance": [],
      "history_visible": true,
      "include_colab_link": true
    },
    "kernelspec": {
      "display_name": "Python 3 (ipykernel)",
      "language": "python",
      "name": "python3"
    },
    "language_info": {
      "codemirror_mode": {
        "name": "ipython",
        "version": 3
      },
      "file_extension": ".py",
      "mimetype": "text/x-python",
      "name": "python",
      "nbconvert_exporter": "python",
      "pygments_lexer": "ipython3",
      "version": "3.9.0"
    }
  },
  "nbformat": 4,
  "nbformat_minor": 0
}