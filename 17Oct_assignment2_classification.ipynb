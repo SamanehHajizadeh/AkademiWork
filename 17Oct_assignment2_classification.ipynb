{
  "cells": [
    {
      "cell_type": "markdown",
      "metadata": {
        "id": "view-in-github",
        "colab_type": "text"
      },
      "source": [
        "<a href=\"https://colab.research.google.com/github/SamanehHajizadeh/AkademiWork/blob/main/17Oct_assignment2_classification.ipynb\" target=\"_parent\"><img src=\"https://colab.research.google.com/assets/colab-badge.svg\" alt=\"Open In Colab\"/></a>"
      ]
    },
    {
      "cell_type": "markdown",
      "metadata": {
        "id": "ePLSo3ldhbMO"
      },
      "source": [
        "# Assignment: Classification of Handwritten Digits\n",
        "\n",
        "In this assignment, we will use the $k$-nearest neighbour classifier and a dense neural network (multilayer perceptron) to classify handwritten digits from the MNIST dataset (http://yann.lecun.com/exdb/mnist/).\n",
        "\n"
      ]
    },
    {
      "cell_type": "markdown",
      "metadata": {
        "id": "ZBze6CRBsFs0"
      },
      "source": [
        "## Working together\n",
        "\n",
        "The assignment should be solved in **groups of two**. Copying code from other students, the Internet, or other sources is not allowed (the provided helper code excluded). If you want to work alone, you must have a compelling reason (that convinces us) for doing so."
      ]
    },
    {
      "cell_type": "markdown",
      "metadata": {
        "id": "4ZjTiT1_scVa"
      },
      "source": [
        "## Task\n",
        "\n",
        "You are given a dataset of images of handwritten digits (0 through 9) and the correct answers to train your machine learning models on.\n",
        "\n",
        "You need to divide the images into a training data set, (optionally) a validation data set, and a test set. You may also use cross-validation instead of a validation data set.\n",
        "\n",
        "After training, and after selecting the proper hyper-parameters (the number of neighbors, $k$, the number of layers, the number of neurons, *etc.*), classify the images in the test set to see how accurately your models classify unknown images. **Note**: You should *never* use, look at, or classify the test set until you have selected your final model. You are *not* allowed to continue training or do any model alterations after you have evaluated your models on the test data set.\n",
        "\n",
        "**In order to pass the assignment your solution must correctly classify at least 94 % of the *validation data set images* with the $k$-NN model and at least 97.7 % of the *validation data set images* with the neural network model.**"
      ]
    },
    {
      "cell_type": "markdown",
      "metadata": {
        "id": "EMtJ5wZvB0Ya"
      },
      "source": [
        "## What to hand in\n",
        "\n",
        "You should hand in a complete and well-written report (in `pdf` format) together with your Jupyter notebook electronically in Labres. Only one member per group hands in and marks the other member. **Note**: you cannot change group members after the first hand-in, so make sure you do it correct the first time.\n",
        "\n",
        "The report may be brief (try to keep it under 5 pages) but it is important that you fulfill the following requirements:\n",
        "\n",
        " * The report must have a title page including names and user names (@cs) for all group members, course name, and assignment name.\n",
        " * The report should be as short as possible and as long as necessary. If your report exceeds five pages (incl. the title page), chances are that you are doing something wrong.\n",
        " * Describe how your solution works on a level that does not lose interesting details. Divide the report into two parts (one for $k$-NN, the other for the neural network), and split each part into *implementation*, *results*, and *discussion* subsections.\n",
        "   - Most important is that you describe how your solution works, and why you solved it in a particular way. Clearly state the ranges for your hyper-parameters, and explain why you chose those.\n",
        "   - Explain, and give pseudo-code for your hyper-parameter search. Explain any decisions/choices you've made.\n",
        "   - For the neural network: Plot how the loss evolve during training of your best model, and interpret the plot. The loss is available in the `MLPClassifier` after training.\n",
        "   - Describe how your work went and which problems and issues you faced when developing the program.\n",
        "   - Describe how you divided the work between you.\n",
        "   - Use clear, well written English language.\n",
        "   - You must not include your source code in the report, supply it in the Jupyter notebook.\n",
        "   - **Report your validation scores in the report.**\n",
        "\n",
        "The source code should align to the following:\n",
        "\n",
        " * Comment the code in a reasonable way. Follow the [Docstring conventions](https://peps.python.org/pep-0257/).\n",
        " * Structure your code in a suitable way, such that it is easy to follow what is going on.\n",
        " * Name classes, variables, methods, modules, *etc.*, such that the names clearly describe their function and follow the specifications given above.\n",
        " * The code you hand in should not contain sections that are not used, or unnecessary. Make sure that you understand every part of the code that you hand in.\n",
        " * **Important:** hand in a notebook that contains your execution results, i.e., execute the notebook from scratch (**Kernel** - **Re-start and run all**) and save before you hand in."
      ]
    },
    {
      "cell_type": "markdown",
      "metadata": {
        "id": "DJlFR2GELAxa"
      },
      "source": [
        "## Getting started\n",
        "\n",
        "You can follow [these instructions](https://jupyter.org/install) to install Jupyter Notebook. Then, proceed as follows:\n",
        "\n",
        " - Download this notebook.\n",
        " - Start Jupyter Notebook\n",
        " - Open your saved copy of this notebook\n",
        "\n",
        "Alternatively, you can also use [Google Colab](https://colab.research.google.com/) to work on the assignment \"in the cloud\"."
      ]
    },
    {
      "cell_type": "markdown",
      "metadata": {
        "id": "OBJ704gG_GHP"
      },
      "source": [
        "**Note**: If you take the course Artificial Intelligence in Cognitive Science (5DV201), then set the following variable to `False`:\n",
        "\n"
      ]
    },
    {
      "cell_type": "code",
      "execution_count": 1,
      "metadata": {
        "id": "ua6te8J-_AVQ"
      },
      "outputs": [],
      "source": [
        "course_5DV124 = True"
      ]
    },
    {
      "cell_type": "code",
      "execution_count": 2,
      "metadata": {
        "id": "yu8e2FVq_I-S"
      },
      "outputs": [],
      "source": [
        "%%capture\n",
        "# Install the dependencies (in case you use Google Colab, these should be available by default, though)\n",
        "! pip install --user -Iv numpy matplotlib sklearn==0.24.1"
      ]
    },
    {
      "cell_type": "markdown",
      "metadata": {
        "id": "z8s96HCd1hle"
      },
      "source": [
        "***NUMPY RANDOM SEED IS FOR PSEUDO-RANDOM NUMBERS IN PYTHON.\n",
        "NumPy random seed is simply a function that sets the random seed of the NumPy pseudo-random number generator. It provides an essential input that enables NumPy to generate pseudo-random numbers for random processes.***\n",
        "***np.random.seed(0) makes the random numbers predictable***\n",
        "***When you set the seed (every time), it does the same thing every time, giving you the same numbers.***"
      ]
    },
    {
      "cell_type": "code",
      "execution_count": 3,
      "metadata": {
        "id": "092ZQBfJzALh"
      },
      "outputs": [],
      "source": [
        "import numpy as np\n",
        "np.random.seed(42)  # Set the random seed for reproducible results"
      ]
    },
    {
      "cell_type": "markdown",
      "metadata": {
        "id": "BTuoPcR-3h3B"
      },
      "source": [
        "***MNIST database (Modified National Institute of Standards and Technology database) is a large database of handwritten digits that is commonly used for training various image processing systems. The database is also widely used for training and testing in the field of machine learning***"
      ]
    },
    {
      "cell_type": "markdown",
      "metadata": {
        "id": "7yp3afXj60Bp"
      },
      "source": [
        "***Train-Valid-Test split is a technique to evaluate the performance of your machine learning model — classification or regression alike. You take a given dataset and divide it into three subsets. Train Dataset\n",
        "Set: used for learning (by the model)to fit the parameters to the machine learning model. Valid Dataset:Set of data to provide an unbiased evaluation of a model fitted on the training dataset while tuning model hyperparameters.Test Dataset:to provide an unbiased evaluation of a final model fitted on the training dataset.***"
      ]
    },
    {
      "cell_type": "code",
      "execution_count": 4,
      "metadata": {
        "colab": {
          "base_uri": "https://localhost:8080/"
        },
        "id": "CPqG1Q30qsEB",
        "outputId": "495f1cff-b74a-491c-da85-6eecaefe447b"
      },
      "outputs": [
        {
          "output_type": "stream",
          "name": "stdout",
          "text": [
            "**Author**: Yann LeCun, Corinna Cortes, Christopher J.C. Burges  \n",
            "**Source**: [MNIST Website](http://yann.lecun.com/exdb/mnist/) - Date unknown  \n",
            "**Please cite**:  \n",
            "\n",
            "The MNIST database of handwritten digits with 784 features, raw data available at: http://yann.lecun.com/exdb/mnist/. It can be split in a training set of the first 60,000 examples, and a test set of 10,000 examples  \n",
            "\n",
            "It is a subset of a larger set available from NIST. The digits have been size-normalized and centered in a fixed-size image. It is a good database for people who want to try learning techniques and pattern recognition methods on real-world data while spending minimal efforts on preprocessing and formatting. The original black and white (bilevel) images from NIST were size normalized to fit in a 20x20 pixel box while preserving their aspect ratio. The resulting images contain grey levels as a result of the anti-aliasing technique used by the normalization algorithm. the images were centered in a 28x28 image by computing the center of mass of the pixels, and translating the image so as to position this point at the center of the 28x28 field.  \n",
            "\n",
            "With some classification methods (particularly template-based methods, such as SVM and K-nearest neighbors), the error rate improves when the digits are centered by bounding box rather than center of mass. If you do this kind of pre-processing, you should report it in your publications. The MNIST database was constructed from NIST's NIST originally designated SD-3 as their training set and SD-1 as their test set. However, SD-3 is much cleaner and easier to recognize than SD-1. The reason for this can be found on the fact that SD-3 was collected among Census Bureau employees, while SD-1 was collected among high-school students. Drawing sensible conclusions from learning experiments requires that the result be independent of the choice of training set and test among the complete set of samples. Therefore it was necessary to build a new database by mixing NIST's datasets.  \n",
            "\n",
            "The MNIST training set is composed of 30,000 patterns from SD-3 and 30,000 patterns from SD-1. Our test set was composed of 5,000 patterns from SD-3 and 5,000 patterns from SD-1. The 60,000 pattern training set contained examples from approximately 250 writers. We made sure that the sets of writers of the training set and test set were disjoint. SD-1 contains 58,527 digit images written by 500 different writers. In contrast to SD-3, where blocks of data from each writer appeared in sequence, the data in SD-1 is scrambled. Writer identities for SD-1 is available and we used this information to unscramble the writers. We then split SD-1 in two: characters written by the first 250 writers went into our new training set. The remaining 250 writers were placed in our test set. Thus we had two sets with nearly 30,000 examples each. The new training set was completed with enough examples from SD-3, starting at pattern # 0, to make a full set of 60,000 training patterns. Similarly, the new test set was completed with SD-3 examples starting at pattern # 35,000 to make a full set with 60,000 test patterns. Only a subset of 10,000 test images (5,000 from SD-1 and 5,000 from SD-3) is available on this site. The full 60,000 sample training set is available.\n",
            "\n",
            "Downloaded from openml.org.\n"
          ]
        }
      ],
      "source": [
        "# Load the MNIST dataset (this may take a while)\n",
        "import pandas as pd\n",
        "import sklearn.datasets\n",
        "\n",
        "data = sklearn.datasets.fetch_openml(\"mnist_784\")\n",
        "'''df = pd.DataFrame(data.data)\n",
        "df['target'] = data.target\n",
        "df\n",
        "df.head()'''\n",
        "print(data.DESCR)"
      ]
    },
    {
      "cell_type": "code",
      "execution_count": null,
      "metadata": {
        "colab": {
          "base_uri": "https://localhost:8080/"
        },
        "id": "Zcop_LOMlKnu",
        "outputId": "02005abb-2d83-43b0-8f98-4765e80c5c5d"
      },
      "outputs": [
        {
          "name": "stdout",
          "output_type": "stream",
          "text": [
            "Looking in indexes: https://pypi.org/simple, https://us-python.pkg.dev/colab-wheels/public/simple/\n",
            "Collecting fast_ml\n",
            "  Downloading fast_ml-3.68-py3-none-any.whl (42 kB)\n",
            "\u001b[K     |████████████████████████████████| 42 kB 573 kB/s \n",
            "\u001b[?25hInstalling collected packages: fast-ml\n",
            "Successfully installed fast-ml-3.68\n"
          ]
        }
      ],
      "source": [
        "#pip install fast_ml"
      ]
    },
    {
      "cell_type": "markdown",
      "source": [
        "Split data to three parts. Data/test/validation. There are two way to split data **\"train_valid_test_split\"** splits data advanced to three parts or **\"train_test_split\"** which split to data/test and test/val. Here we have implemented both ways to compare. "
      ],
      "metadata": {
        "id": "QIvEEbHxsWSz"
      }
    },
    {
      "cell_type": "code",
      "execution_count": 21,
      "metadata": {
        "colab": {
          "base_uri": "https://localhost:8080/"
        },
        "id": "t69lC4bEmjAT",
        "outputId": "f10e008b-3adf-458a-db7b-0a58908d664a"
      },
      "outputs": [
        {
          "output_type": "stream",
          "name": "stdout",
          "text": [
            "Training set size X   : (66500, 784)\n",
            "Training set size y   : (66500,)\n",
            "Validation set size X : (1750, 784)\n",
            "Validation set size y : (1750,)\n",
            "Test set size X       : (1750, 784)\n",
            "Test set size y       : (1750,)\n",
            "Output classes        : {'7', '0', '8', '9', '5', '3', '2', '6', '4', '1'}\n"
          ]
        }
      ],
      "source": [
        "import numpy as np\n",
        "np.random.seed(42)  # Set the random seed for reproducible results\n",
        "\n",
        "'''from fast_ml.model_development import train_valid_test_split\n",
        "Xtrain, ytrain, Xval, yval, Xtest, ytest = train_valid_test_split(df,target='target', train_size=0.8, valid_size=0.1, test_size=0.1)'''\n",
        "\n",
        "# Split the data into training, (validation), and test set\n",
        "\n",
        "from sklearn.model_selection import train_test_split\n",
        "\n",
        "\n",
        "Xtrain, Xtest, ytrain, ytest = train_test_split(data.data, data.target, test_size=0.05, random_state=1)\n",
        "\n",
        "# You may alternatively skip this / have a combined Xtrain and Xval here and instead use cross-validation below\n",
        "Xtest, Xval, ytest, yval = train_test_split(Xtest, ytest, test_size=0.5, random_state=1)\n",
        "Xtrain =  np.asarray(Xtrain)\n",
        "Xtest =  np.asarray(Xtest)\n",
        "Xval =  np.asarray(Xval)\n",
        "ytrain =  np.asarray(ytrain)\n",
        "ytest =  np.asarray(ytest)\n",
        "yval =  np.asarray(yval)\n",
        "\n",
        "\n",
        "# Note! Do not touch the test data until the very end!\n",
        "print(f\"Training set size X   : {Xtrain.shape}\")\n",
        "print(f\"Training set size y   : {ytrain.shape}\")\n",
        "print(f\"Validation set size X : {Xval.shape}\")\n",
        "print(f\"Validation set size y : {yval.shape}\")\n",
        "print(f\"Test set size X       : {Xtest.shape}\")\n",
        "print(f\"Test set size y       : {ytest.shape}\")\n",
        "print(f\"Output classes        : {set(ytrain)}\")\n"
      ]
    },
    {
      "cell_type": "code",
      "execution_count": 22,
      "metadata": {
        "colab": {
          "base_uri": "https://localhost:8080/",
          "height": 687
        },
        "id": "2st_Xv3w12Tb",
        "outputId": "22a90d77-39d1-41cf-f930-e0d32b42da07"
      },
      "outputs": [
        {
          "output_type": "stream",
          "name": "stdout",
          "text": [
            "i: 0 j: 0 ax[i][j] AxesSubplot(0.005,0.556097;0.222472x0.438903)\n",
            "i: 0 j: 1 ax[i][j] AxesSubplot(0.260843,0.556097;0.222472x0.438903)\n",
            "i: 0 j: 2 ax[i][j] AxesSubplot(0.516685,0.556097;0.222472x0.438903)\n",
            "i: 0 j: 3 ax[i][j] AxesSubplot(0.772528,0.556097;0.222472x0.438903)\n",
            "i: 1 j: 0 ax[i][j] AxesSubplot(0.005,0.115;0.222472x0.438903)\n",
            "i: 1 j: 1 ax[i][j] AxesSubplot(0.260843,0.115;0.222472x0.438903)\n",
            "i: 1 j: 2 ax[i][j] AxesSubplot(0.516685,0.115;0.222472x0.438903)\n",
            "i: 1 j: 3 ax[i][j] AxesSubplot(0.772528,0.115;0.222472x0.438903)\n",
            "[[<matplotlib.axes._subplots.AxesSubplot object at 0x7f149a1c8d90>, <matplotlib.axes._subplots.AxesSubplot object at 0x7f1499f69c50>, <matplotlib.axes._subplots.AxesSubplot object at 0x7f149a18e3d0>, <matplotlib.axes._subplots.AxesSubplot object at 0x7f149a697590>], [<matplotlib.axes._subplots.AxesSubplot object at 0x7f149a1c8d90>, <matplotlib.axes._subplots.AxesSubplot object at 0x7f1499f69c50>, <matplotlib.axes._subplots.AxesSubplot object at 0x7f149a18e3d0>, <matplotlib.axes._subplots.AxesSubplot object at 0x7f149a697590>]]\n"
          ]
        },
        {
          "output_type": "display_data",
          "data": {
            "text/plain": [
              "<Figure size 864x558 with 8 Axes>"
            ],
            "image/png": "[encoded data removed]"
          },
          "metadata": {
            "needs_background": "light"
          }
        }
      ],
      "source": [
        "# Plot a few images\n",
        "\n",
        "import matplotlib.pyplot as plt\n",
        "%matplotlib inline\n",
        "\n",
        "fig = plt.figure(figsize=(12, 7.75))\n",
        "fig.subplots_adjust(top=0.995,\n",
        "                    bottom=0.115,\n",
        "                    left=0.005,\n",
        "                    right=0.995,\n",
        "                    wspace=0.15,\n",
        "                    hspace=0.005)\n",
        "\n",
        "plot_array = (2, 4)\n",
        "ax = [[None] * plot_array[1]] * plot_array[0]\n",
        "it = 0\n",
        "for i in range(plot_array[0]):\n",
        "    for j in range(plot_array[1]):\n",
        "        ax[i][j] = plt.subplot2grid((2, 4), (i, j), rowspan=1, colspan=1)\n",
        "        ax[i][j].imshow(Xtrain[it, :].reshape((28, 28)))\n",
        "        ##***To see without plot view what is exactly ax[i][j]***      \n",
        "        print(\"i:\",i , \"j:\",j,\"ax[i][j]\",ax[i][j])\n",
        "        ax[i][j].set_title(f\"Label: {ytrain[it]}\", fontsize=24)\n",
        "        it += 1\n",
        "print(ax)\n"
      ]
    },
    {
      "cell_type": "markdown",
      "metadata": {
        "id": "SyZwsULp09Tl"
      },
      "source": [
        "\n",
        "The **sklearn preprocessing** package provides several common utility functions and transformer classes to change raw feature vectors into a representation that is more suitable for the downstream estimators. In general, learning algorithms benefit from standardization of the data set."
      ]
    },
    {
      "cell_type": "code",
      "execution_count": 23,
      "metadata": {
        "colab": {
          "base_uri": "https://localhost:8080/"
        },
        "id": "Xd0OxcEW5mq7",
        "outputId": "4c428111-ec64-4103-9e56-2f64277e9005"
      },
      "outputs": [
        {
          "output_type": "stream",
          "name": "stdout",
          "text": [
            "Before preprocessing, test data       : min = 0.0, max = 255.0, mean = 33.4, std = 78.7\n",
            "Before preprocessing, validation data : min = 0.0, max = 255.0, mean = 33.0, std = 78.3\n",
            "Before preprocessing, test data       : min = 0.0, max = 255.0, mean = 32.9, std = 78.2\n",
            "After preprocessing, test data        : min = -1.0, max = 1.0, mean = -0.7, std = 0.6\n",
            "After preprocessing, validation data  : min = -1.0, max = 1.6, mean = -0.7, std = 0.6\n",
            "After preprocessing, test data        : min = -1.0, max = 4.6, mean = -0.7, std = 0.6\n"
          ]
        }
      ],
      "source": [
        "# Preprocess the data\n",
        "import sklearn.preprocessing\n",
        "\n",
        "print(f\"Before preprocessing, test data       : \"\n",
        "      f\"min = {np.min(Xtrain):.1f}, \"\n",
        "      f\"max = {np.max(Xtrain):.1f}, \"\n",
        "      f\"mean = {np.mean(Xtrain):.1f}, \"\n",
        "      f\"std = {np.std(Xtrain):.1f}\")\n",
        "print(f\"Before preprocessing, validation data : \"\n",
        "      f\"min = {np.min(Xval):.1f}, \"\n",
        "      f\"max = {np.max(Xval):.1f}, \"\n",
        "      f\"mean = {np.mean(Xval):.1f}, \"\n",
        "      f\"std = {np.std(Xval):.1f}\")\n",
        "print(f\"Before preprocessing, test data       : \"\n",
        "      f\"min = {np.min(Xtest):.1f}, \"\n",
        "      f\"max = {np.max(Xtest):.1f}, \"\n",
        "      f\"mean = {np.mean(Xtest):.1f}, \"\n",
        "      f\"std = {np.std(Xtest):.1f}\")\n",
        "\n",
        "scaler = sklearn.preprocessing.MinMaxScaler(feature_range=(-1, 1))\n",
        "scaler.fit(Xtrain)  # Every statistic we compute is found on the training data!\n",
        "\n",
        "Xtrain = scaler.transform(Xtrain)\n",
        "Xval = scaler.transform(Xval)\n",
        "# TODO: If you do cross-validation, you must redo this on the training data in\n",
        "#       each cross-validation loop, and then transform the validation data as\n",
        "#       well!\n",
        "Xtest = scaler.transform(Xtest)\n",
        "\n",
        "print(f\"After preprocessing, test data        : \"\n",
        "      f\"min = {np.min(Xtrain):.1f}, \"\n",
        "      f\"max = {np.max(Xtrain):.1f}, \"\n",
        "      f\"mean = {np.mean(Xtrain):.1f}, \"\n",
        "      f\"std = {np.std(Xtrain):.1f}\")\n",
        "print(f\"After preprocessing, validation data  : \"\n",
        "      f\"min = {np.min(Xval):.1f}, \"\n",
        "      f\"max = {np.max(Xval):.1f}, \"\n",
        "      f\"mean = {np.mean(Xval):.1f}, \"\n",
        "      f\"std = {np.std(Xval):.1f}\")\n",
        "print(f\"After preprocessing, test data        : \"\n",
        "      f\"min = {np.min(Xtest):.1f}, \"\n",
        "      f\"max = {np.max(Xtest):.1f}, \"\n",
        "      f\"mean = {np.mean(Xtest):.1f}, \"\n",
        "      f\"std = {np.std(Xtest):.1f}\")\n",
        "\n",
        "# TODO: Try to apply other preprocessing, e.g. the\n",
        "#       sklearn.preprocessing.StandardScaler(), and see if the results improve."
      ]
    },
    {
      "cell_type": "markdown",
      "metadata": {
        "id": "cskOHKzA1aJT"
      },
      "source": [
        "\n",
        "Use **StandardScaler**  to have zero-mean, unit standard-deviation."
      ]
    },
    {
      "cell_type": "markdown",
      "metadata": {
        "id": "_I-L0BtiwOMO"
      },
      "source": [
        "### The $k$-NN model\n",
        "\n",
        "If you take the course **5DV124**, then you will have to implement the $k$-NN classifier yourself. The below implementation uses the scikit-learn implementation of the $k$-NN classifier, but you need to do it yourself.\n",
        "\n",
        "If you take the course **5DV201**, then you can use the $k$-NN classifier from scikit-learn directly. You are of course free to also implement the $k$-NN classifier yourself, if you want to do that.\n",
        "\n",
        "In both cases, you need to perform a hyper-parameter search for the optimal number of neighbours, $k$."
      ]
    },
    {
      "cell_type": "code",
      "execution_count": null,
      "metadata": {
        "colab": {
          "base_uri": "https://localhost:8080/",
          "height": 70
        },
        "id": "vzpHlZ1IJPD8",
        "outputId": "8698ad77-157e-4a5b-d702-1e98aaae61cd"
      },
      "outputs": [
        {
          "data": {
            "application/vnd.google.colaboratory.intrinsic+json": {
              "type": "string"
            },
            "text/plain": [
              "'from sklearn.neighbors import KNeighborsClassifier\\n\\nmodel = KNeighborsClassifier(n_neighbors=4)\\nKNN=KNeighborsClassifier(n_neighbors=4)\\n\\nKNN.fit(Xtrain, ytrain)\\nYpred=KNN.predict(Xtest)\\n\\nfrom sklearn.metrics import classification_report, confusion_matrix\\nprint(classification_report(ytest, Ypred))\\n\\nerr = KNN.score(Xval[:100, :], yval[:100])\\nprint(f\"Number of neighbours: k={k}, validation accuracy: {err}\")'"
            ]
          },
          "execution_count": 144,
          "metadata": {},
          "output_type": "execute_result"
        }
      ],
      "source": [
        "#1\n",
        "#KNeighborsClassifier easy solution \n",
        "'''from sklearn.neighbors import KNeighborsClassifier\n",
        "\n",
        "model = KNeighborsClassifier(n_neighbors=4)\n",
        "KNN=KNeighborsClassifier(n_neighbors=4)\n",
        "\n",
        "KNN.fit(Xtrain, ytrain)\n",
        "Ypred=KNN.predict(Xtest)\n",
        "\n",
        "from sklearn.metrics import classification_report, confusion_matrix\n",
        "print(classification_report(ytest, Ypred))\n",
        "\n",
        "err = KNN.score(Xval[:100, :], yval[:100])\n",
        "print(f\"Number of neighbours: k={k}, validation accuracy: {err}\")'''"
      ]
    },
    {
      "cell_type": "markdown",
      "metadata": {
        "id": "HOhiiCZkKwYj"
      },
      "source": [
        "we use \n",
        "**training data** for finding nearest neighbours,\n",
        "**cross-validation data** to find the best value of “K” (K neighbours here)  **test** to test our model on totally unseen test data. This test data is equivalent to the future unseen data points."
      ]
    },
    {
      "cell_type": "code",
      "execution_count": 24,
      "metadata": {
        "id": "1qexh0NK4Nzu"
      },
      "outputs": [],
      "source": [
        "def most_common(lst):\n",
        " return max(set(lst), key=lst.count) "
      ]
    },
    {
      "cell_type": "code",
      "execution_count": 25,
      "metadata": {
        "id": "fDOEwSWl-m_9"
      },
      "outputs": [],
      "source": [
        "def euclidean(point, data):\n",
        "    return np.sqrt(np.sum((point - data)**2, axis=1))"
      ]
    },
    {
      "cell_type": "code",
      "execution_count": 26,
      "metadata": {
        "id": "Y-OEluxqDzxQ"
      },
      "outputs": [],
      "source": [
        "# Create the k-NN classifier\n",
        "import numpy as np\n",
        "from collections import Counter\n",
        "import sklearn.neighbors\n",
        "from scipy import stats\n",
        "\n",
        "if course_5DV124:\n",
        "    # TODO: Create your own nearest neighbour classifier:\n",
        "    class KNeighborsClassifier(sklearn.neighbors.KNeighborsClassifier):\n",
        "\n",
        "        def most_common(lst):\n",
        "         return max(set(lst), key=lst.count) \n",
        "\n",
        "        def __init__(self, k=5,  dist_metric=euclidean):  \n",
        "            self.k=k\n",
        "            self.Xtrain=None\n",
        "            self.ytrain=None\n",
        "            self.dist_metric = dist_metric\n",
        "            #self.metric = 'euclidean'\n",
        "\n",
        "        @staticmethod\n",
        "        def _eucidean_distance(p,q):\n",
        "          return np.sqrt(np.sum(p-q)**2)\n",
        "\n",
        "        '''def fit(self, X, y):\n",
        "            self.Xtrain=X\n",
        "            self.ytrain=y'''\n",
        "        def fit(self, Xtrain, ytrain):\n",
        "         self.Xtrain = Xtrain\n",
        "         self.ytrain = ytrain \n",
        "\n",
        "        def predict(self, X_test):\n",
        "         neighbors = []\n",
        "         for x in X_test:\n",
        "            distances = self.dist_metric(x, self.Xtrain)\n",
        "            y_sorted = [y for _, y in sorted(zip(distances, self.ytrain))]\n",
        "            neighbors.append(y_sorted[:self.k])\n",
        "         return list(map(most_common, neighbors))\n",
        "        def evaluate(self, X_test, y_test):\n",
        "         y_pred = self.predict(X_test)\n",
        "         accuracy = sum(y_pred == y_test) / len(y_test)\n",
        "         return accuracy\n"
      ]
    },
    {
      "cell_type": "code",
      "execution_count": 27,
      "metadata": {
        "colab": {
          "base_uri": "https://localhost:8080/"
        },
        "id": "PFTZLR7zu1SI",
        "outputId": "2c54cdeb-6ae1-41c8-dfa0-9ee239405081"
      },
      "outputs": [
        {
          "output_type": "stream",
          "name": "stdout",
          "text": [
            "Number of neighbours: k=3, validation accuracy: 0.82\n",
            "accuracy=  0.8285714285714286\n",
            "****error**** 0.82\n",
            " Grid search done!\n"
          ]
        }
      ],
      "source": [
        "# Perform grid search to find the number of neighbours, K\n",
        "\n",
        "'''k_max = 10  # Set the maximum number of neighbours considered\n",
        "errs_val = []\n",
        "k = 3\n",
        "model = KNeighborsClassifier(k=k)\n",
        "\n",
        "model.fit(Xtrain[:500, :], ytrain[:500])\n",
        "\n",
        "error = model.score(Xval[:100, :], yval[:100])\n",
        "accuracy = model.evaluate(Xtest, ytest)\n",
        "errs_val.append('')\n",
        "\n",
        "print(f\"Number of neighbours: k={k}, validation accuracy: {error}\")\n",
        "print('accuracy= ', accuracy)\n",
        "\n",
        "print(\"****error****\", error)\n",
        "errs_val.append(error)\n",
        "\n",
        "print(\" Grid search done!\")'''"
      ]
    },
    {
      "cell_type": "markdown",
      "metadata": {
        "id": "QOUSYUH3IGGM"
      },
      "source": []
    },
    {
      "cell_type": "markdown",
      "source": [
        "**Test knn model in different range to find the best neigbour(K).**"
      ],
      "metadata": {
        "id": "DlHCHAxEtOF8"
      }
    },
    {
      "cell_type": "code",
      "execution_count": 28,
      "metadata": {
        "colab": {
          "base_uri": "https://localhost:8080/",
          "height": 451
        },
        "id": "35tEVX_uB22m",
        "outputId": "9bd822b2-2c57-4aa3-eb01-a969ded5ba35"
      },
      "outputs": [
        {
          "output_type": "stream",
          "name": "stdout",
          "text": [
            "Number of neighbours: k=1, validation accuracy: 0.956\n",
            "Number of neighbours: k=2, validation accuracy: 0.948\n",
            "Number of neighbours: k=3, validation accuracy: 0.95\n",
            "Number of neighbours: k=4, validation accuracy: 0.956\n",
            "Number of neighbours: k=5, validation accuracy: 0.958\n",
            "Number of neighbours: k=6, validation accuracy: 0.954\n",
            "Number of neighbours: k=7, validation accuracy: 0.954\n",
            "Number of neighbours: k=8, validation accuracy: 0.954\n",
            "Number of neighbours: k=9, validation accuracy: 0.95\n"
          ]
        },
        {
          "output_type": "display_data",
          "data": {
            "text/plain": [
              "<Figure size 432x288 with 1 Axes>"
            ],
            "image/png": "[encoded data removed]"
          },
          "metadata": {
            "needs_background": "light"
          }
        }
      ],
      "source": [
        "#WITH StandardScaler()\n",
        "\n",
        "accuracies = []\n",
        "errs_val=[]\n",
        "k_range = range(1, 10)\n",
        "\n",
        "for k in k_range:\n",
        "    knn = KNeighborsClassifier(k=k)\n",
        "    knn.fit(Xtrain[:10000, :], ytrain[:10000])\n",
        "    accuracy = knn.score(Xval[:500, :], yval[:500])\n",
        "    error = knn.score(Xval[:500, :], yval[:500])\n",
        "    print(f\"Number of neighbours: k={k}, validation accuracy: {error}\")\n",
        "    accuracies.append(accuracy)\n",
        "    errs_val.append(error)\n",
        "\n",
        "# plot to see clearly\n",
        "fig, ax = plt.subplots()\n",
        "ax.plot(k_range, errs_val)\n",
        "ax.set(xlabel=\"k\",\n",
        "       ylabel=\"Accuracy\",\n",
        "       title=\"Performance of knn\")\n",
        "plt.show()\n"
      ]
    },
    {
      "cell_type": "code",
      "execution_count": null,
      "metadata": {
        "id": "GOvrLN4aJlWE"
      },
      "outputs": [],
      "source": [
        "\n",
        "#WITH preprocessing.MinMaxScaler\n",
        "'''scaler = sklearn.preprocessing.MinMaxScaler(feature_range=(-1, 1))\n",
        "scaler.fit(Xtrain)  # Every statistic we compute is found on the training data!\n",
        "\n",
        "Xtrain = scaler.transform(Xtrain)\n",
        "Xval = scaler.transform(Xval)\n",
        "# TODO: If you do cross-validation, you must redo this on the training data in\n",
        "#       each cross-validation loop, and then transform the validation data as\n",
        "#       well!\n",
        "Xtest = scaler.transform(Xtest)'''"
      ]
    },
    {
      "cell_type": "code",
      "execution_count": null,
      "metadata": {
        "colab": {
          "base_uri": "https://localhost:8080/",
          "height": 798
        },
        "id": "sX1UkIBgJqjY",
        "outputId": "e81a2c05-a2d4-4e0e-ada5-8f59ba6054ee"
      },
      "outputs": [
        {
          "name": "stdout",
          "output_type": "stream",
          "text": [
            "Number of neighbours: k=1, validation accuracy: 0.9\n",
            "Number of neighbours: k=2, validation accuracy: 0.85\n",
            "Number of neighbours: k=3, validation accuracy: 0.82\n",
            "Number of neighbours: k=4, validation accuracy: 0.84\n",
            "Number of neighbours: k=5, validation accuracy: 0.83\n",
            "Number of neighbours: k=6, validation accuracy: 0.82\n",
            "Number of neighbours: k=7, validation accuracy: 0.81\n",
            "Number of neighbours: k=8, validation accuracy: 0.79\n",
            "Number of neighbours: k=9, validation accuracy: 0.83\n",
            "Number of neighbours: k=10, validation accuracy: 0.78\n",
            "Number of neighbours: k=11, validation accuracy: 0.8\n",
            "Number of neighbours: k=12, validation accuracy: 0.78\n",
            "Number of neighbours: k=13, validation accuracy: 0.79\n",
            "Number of neighbours: k=14, validation accuracy: 0.78\n",
            "Number of neighbours: k=15, validation accuracy: 0.77\n",
            "Number of neighbours: k=16, validation accuracy: 0.77\n",
            "Number of neighbours: k=17, validation accuracy: 0.78\n",
            "Number of neighbours: k=18, validation accuracy: 0.79\n",
            "Number of neighbours: k=19, validation accuracy: 0.79\n",
            "Number of neighbours: k=20, validation accuracy: 0.78\n",
            "Number of neighbours: k=21, validation accuracy: 0.75\n",
            "Number of neighbours: k=22, validation accuracy: 0.74\n",
            "Number of neighbours: k=23, validation accuracy: 0.75\n",
            "Number of neighbours: k=24, validation accuracy: 0.74\n",
            "Number of neighbours: k=25, validation accuracy: 0.73\n",
            "Number of neighbours: k=26, validation accuracy: 0.72\n",
            "Number of neighbours: k=27, validation accuracy: 0.72\n",
            "Number of neighbours: k=28, validation accuracy: 0.71\n",
            "Number of neighbours: k=29, validation accuracy: 0.71\n"
          ]
        },
        {
          "data": {
            "image/png": "[encoded data removed]",
            "text/plain": [
              "<Figure size 432x288 with 1 Axes>"
            ]
          },
          "metadata": {},
          "output_type": "display_data"
        }
      ],
      "source": [
        "# Test knn model across varying ks\n",
        "'''accuracies = []\n",
        "errs_val=[]\n",
        "ks = range(1, 30)\n",
        "for k in ks:\n",
        "    knn = KNeighborsClassifier(k=k)\n",
        "    knn.fit(Xtrain[:10000, :], ytrain[:10000])\n",
        "    accuracy = knn.score(Xval[:10000, :], yval[:10000])\n",
        "    error = knn.score(Xval[:100, :], yval[:100])\n",
        "    print(f\"Number of neighbours: k={k}, validation accuracy: {error}\")\n",
        "    accuracies.append(accuracy)\n",
        "    errs_val.append(error)\n",
        "# Visualize accuracy vs. k\n",
        "fig, ax = plt.subplots()\n",
        "ax.plot(ks, errs_val)\n",
        "ax.set(xlabel=\"k\",\n",
        "       ylabel=\"Accuracy\",\n",
        "       title=\"Performance of knn\")\n",
        "plt.show()'''"
      ]
    },
    {
      "cell_type": "markdown",
      "metadata": {
        "id": "WKHY4bW-ihG5"
      },
      "source": []
    },
    {
      "cell_type": "code",
      "execution_count": 29,
      "metadata": {
        "colab": {
          "base_uri": "https://localhost:8080/"
        },
        "id": "FO2nAY0WvzJ5",
        "outputId": "d3e8170e-647f-4eb4-c1d6-38e4d2c314ca"
      },
      "outputs": [
        {
          "output_type": "stream",
          "name": "stdout",
          "text": [
            "The best value was 0.958, found using k=5.\n",
            "Final validation accuracy: 0.954\n"
          ]
        }
      ],
      "source": [
        "# Train the final k-NN model with the best value for k\n",
        "\n",
        "k_best = np.argmax(errs_val) + 1  # Note that k=1 is at index 0.\n",
        "print(f\"The best value was {errs_val[k_best - 1]}, found using k={k_best}.\")\n",
        "\n",
        "model_knn = KNeighborsClassifier(k=k_best)\n",
        "model_knn.fit(Xtrain[:10000, :], ytrain[:10000])\n",
        "err = model_knn.score(Xval[:1000, :], yval[:1000])\n",
        "print(f\"Final validation accuracy: {err}\")"
      ]
    },
    {
      "cell_type": "code",
      "source": [
        "# TODO: Try to apply other preprocessing, e.g. the\n",
        "#       sklearn.preprocessing.StandardScaler(), and see if the results improve.\n",
        "# Preprocess the data with StandardScaler\n",
        "'''from sklearn.preprocessing import StandardScaler\n",
        "\n",
        "scaler = StandardScaler()\n",
        "StandardScaler(copy=True, with_mean=True, with_std=True)\n",
        "\n",
        "scaler.fit(Xtrain)\n",
        "Xtrain = scaler.transform(Xtrain)\n",
        "\n",
        "# TODO: If you do cross-validation, you must redo this on the training data in\n",
        "#       each cross-validation loop, and then transform the validation data as\n",
        "#       well!\n",
        "#scaler.fit(Xval)\n",
        "Xval = scaler.transform(Xval)\n",
        "\n",
        "# TODO: If you do cross-validation, you must redo this on the training data in\n",
        "#       each cross-validation loop, and then transform the validation data as\n",
        "#       well!\n",
        "#scaler.fit(Xtest)\n",
        "Xtest = scaler.transform(Xtest)\n",
        "\n",
        "print(f\"After preprocessing, test data        : \"\n",
        "      f\"min = {np.min(Xtrain):.1f}, \"\n",
        "      f\"max = {np.max(Xtrain):.1f}, \"\n",
        "      f\"mean = {np.mean(Xtrain):.1f}, \"\n",
        "      f\"std = {np.std(Xtrain):.1f}\")\n",
        "print(f\"After preprocessing, validation data  : \"\n",
        "      f\"min = {np.min(Xval):.1f}, \"\n",
        "      f\"max = {np.max(Xval):.1f}, \"\n",
        "      f\"mean = {np.mean(Xval):.1f}, \"\n",
        "      f\"std = {np.std(Xval):.1f}\")\n",
        "print(f\"After preprocessing, test data        : \"\n",
        "      f\"min = {np.min(Xtest):.1f}, \"\n",
        "      f\"max = {np.max(Xtest):.1f}, \"\n",
        "      f\"mean = {np.mean(Xtest):.1f}, \"\n",
        "      f\"std = {np.std(Xtest):.1f}\")'''"
      ],
      "metadata": {
        "colab": {
          "base_uri": "https://localhost:8080/"
        },
        "id": "ezPHXE5ZvnQa",
        "outputId": "a8ae6180-4262-4fb9-8954-b49959ec2fad"
      },
      "execution_count": 19,
      "outputs": [
        {
          "output_type": "stream",
          "name": "stdout",
          "text": [
            "After preprocessing, test data        : min = -1.3, max = 257.9, mean = -0.0, std = 1.0\n",
            "After preprocessing, validation data  : min = -1.3, max = 160.2, mean = -0.0, std = 0.9\n",
            "After preprocessing, test data        : min = -1.3, max = 465.8, mean = -0.0, std = 1.1\n"
          ]
        }
      ]
    },
    {
      "cell_type": "code",
      "source": [
        "# Test knn model across varying ks\n",
        "'''accuracies = []\n",
        "errs_val=[]\n",
        "ks = range(1, 30)\n",
        "for k in ks:\n",
        "    knn = KNeighborsClassifier(k=k)\n",
        "    knn.fit(Xtrain[:10000, :], ytrain[:10000])\n",
        "    accuracy = knn.score(Xval[:10000, :], yval[:10000])\n",
        "    error = knn.score(Xval[:100, :], yval[:100])\n",
        "    print(f\"Number of neighbours: k={k}, validation accuracy: {error}\")\n",
        "    accuracies.append(accuracy)\n",
        "    errs_val.append(error)\n",
        "# Visualize accuracy vs. k\n",
        "fig, ax = plt.subplots()\n",
        "ax.plot(ks, errs_val)\n",
        "ax.set(xlabel=\"k\",\n",
        "       ylabel=\"Accuracy\",\n",
        "       title=\"Performance of knn\")\n",
        "plt.show()'''"
      ],
      "metadata": {
        "id": "WJm3vOC2xLAl"
      },
      "execution_count": null,
      "outputs": []
    },
    {
      "cell_type": "markdown",
      "metadata": {
        "id": "FcI744T_jnVQ"
      },
      "source": [
        "import matplotlib.pyplot as plt \n",
        "%matplotlib inline\n",
        "# choose k between 1 to 31\n",
        "k_range = range(1, 31)\n",
        "k_scores = []\n",
        "\n",
        "# use iteration to caclulator different k in models, then return the average accuracy based on the cross validation\n",
        "\n",
        "    knn = KNeighborsClassifier(n_neighbors=k)\n",
        "    scores = cross_val_score(knn, X, y, cv=5, scoring='accuracy')\n",
        "    k_scores.append(scores.mean())\n"
      ]
    },
    {
      "cell_type": "markdown",
      "metadata": {
        "id": "ESiZjUNjxy7b"
      },
      "source": [
        "### The neural network model\n",
        "\n",
        "We will use the neural networks (multilayer perceptrons) implemented in scikit-learn. You need to find the optimal number of layers, the number of neurons in each of the layers, and any other hyper-parameters that may be relevant."
      ]
    },
    {
      "cell_type": "markdown",
      "source": [
        "\n",
        "Neural networks are computing systems with interconnected nodes that work much like neurons in the human brain.\n",
        "As Neural network works,we added hidden-layers which is suposed to perform the model as nodes.\n",
        "First two hiddean layesr got added but to aim more than 97.7 or 98% we added the third hidden layer as well.\n",
        "Each layers have a range of layers. the numbers & the maximum number of layer(Neurons) is added."
      ],
      "metadata": {
        "id": "ysMsvOt92jPO"
      }
    },
    {
      "cell_type": "markdown",
      "source": [
        "By going through different layers (nodes) we return the best value and we determine in which layer it was found. \n",
        "The best value is found in the layer sizes: (200, 200, 300), the validation accuracy is reported 0.98"
      ],
      "metadata": {
        "id": "bzYV0Qz9qFp9"
      }
    },
    {
      "cell_type": "markdown",
      "metadata": {
        "id": "rCnNvkYB54oM"
      },
      "source": [
        "arnings.warn(\"Training interrupted by user.\")\n",
        "Hidden layer sizes: (200, 200, 100), validation accuracy: 0.97"
      ]
    },
    {
      "cell_type": "code",
      "execution_count": 33,
      "metadata": {
        "colab": {
          "base_uri": "https://localhost:8080/",
          "height": 364
        },
        "id": "29OqeZmELELJ",
        "outputId": "67156065-bb5c-4eb5-8a41-0d704d0ddf24"
      },
      "outputs": [
        {
          "output_type": "stream",
          "name": "stdout",
          "text": [
            "The best value was 0.97, found using layer sizes: (200, 200, 300).\n"
          ]
        },
        {
          "output_type": "stream",
          "name": "stderr",
          "text": [
            "/usr/local/lib/python3.7/dist-packages/sklearn/neural_network/_multilayer_perceptron.py:699: UserWarning: Training interrupted by user.\n",
            "  warnings.warn(\"Training interrupted by user.\")\n"
          ]
        },
        {
          "output_type": "stream",
          "name": "stdout",
          "text": [
            "Final validation accuracy: 0.98\n"
          ]
        },
        {
          "output_type": "display_data",
          "data": {
            "text/plain": [
              "<Figure size 432x288 with 1 Axes>"
            ],
            "image/png": "[encoded data removed]"
          },
          "metadata": {
            "needs_background": "light"
          }
        }
      ],
      "source": [
        "# Train the final model using the best layer sizes\n",
        "\n",
        "hidden_layer_sizes_best = max(errs_val, key=errs_val.get, default='')\n",
        "print(f\"The best value was {errs_val[hidden_layer_sizes_best]}, \"\n",
        "      f\"found using layer sizes: {hidden_layer_sizes_best}.\")\n",
        "\n",
        "model_ann = sklearn.neural_network.MLPClassifier(\n",
        "    hidden_layer_sizes=hidden_layer_sizes_best,\n",
        "    alpha=0.0001,\n",
        "    batch_size='auto',\n",
        "    learning_rate_init=0.001,\n",
        "    max_iter=200,\n",
        ")\n",
        "\n",
        "model_ann.fit(Xtrain[:50000, :], ytrain[:50000])\n",
        "err = model_ann.score(Xval[:10000, :], yval[:10000])\n",
        "\n",
        "print(f\"Final validation accuracy: {err}\")\n",
        "\n",
        "# Plot the LEARNING CURVE\n",
        "plt.title(\"Evolution of TRAINING ERROR during training\")\n",
        "plt.xlabel(\"Iterations (epochs)\")\n",
        "plt.ylabel(\"TRAINING ERROR\")\n",
        "plt.plot(model_ann.loss_curve_)\n",
        "plt.show()"
      ]
    },
    {
      "cell_type": "markdown",
      "metadata": {
        "id": "_iqH_Kj24hDG"
      },
      "source": [
        "Once we have selected our final model, we can compute the test error on the final models as the last thing we do. Make sure to only do this at the very end, after you have selected the best models you can find."
      ]
    },
    {
      "cell_type": "code",
      "execution_count": 32,
      "metadata": {
        "colab": {
          "base_uri": "https://localhost:8080/",
          "height": 329
        },
        "id": "vuQfK309lkf4",
        "outputId": "c5c48b41-eceb-4ce5-b9f9-9da76c8cb093"
      },
      "outputs": [
        {
          "output_type": "error",
          "ename": "KeyboardInterrupt",
          "evalue": "ignored",
          "traceback": [
            "\u001b[0;31m---------------------------------------------------------------------------\u001b[0m",
            "\u001b[0;31mKeyboardInterrupt\u001b[0m                         Traceback (most recent call last)",
            "\u001b[0;32m<ipython-input-32-84b09a7ed8a4>\u001b[0m in \u001b[0;36m<module>\u001b[0;34m\u001b[0m\n\u001b[1;32m      5\u001b[0m \u001b[0;31m# dataset. (Or, if you keep your test data set, then your results are biased and\u001b[0m\u001b[0;34m\u001b[0m\u001b[0;34m\u001b[0m\u001b[0;34m\u001b[0m\u001b[0m\n\u001b[1;32m      6\u001b[0m \u001b[0;31m# by that unreliable.)\u001b[0m\u001b[0;34m\u001b[0m\u001b[0;34m\u001b[0m\u001b[0;34m\u001b[0m\u001b[0m\n\u001b[0;32m----> 7\u001b[0;31m \u001b[0mprint\u001b[0m\u001b[0;34m(\u001b[0m\u001b[0;34mf\"k-NN model training data accuracy  : {model_knn.score(Xtrain, ytrain)}\"\u001b[0m\u001b[0;34m)\u001b[0m\u001b[0;34m\u001b[0m\u001b[0;34m\u001b[0m\u001b[0m\n\u001b[0m\u001b[1;32m      8\u001b[0m \u001b[0mprint\u001b[0m\u001b[0;34m(\u001b[0m\u001b[0;34mf\"k-NN model validation data accuracy: {model_knn.score(Xval, yval)}\"\u001b[0m\u001b[0;34m)\u001b[0m\u001b[0;34m\u001b[0m\u001b[0;34m\u001b[0m\u001b[0m\n\u001b[1;32m      9\u001b[0m \u001b[0;32mif\u001b[0m \u001b[0;32mFalse\u001b[0m\u001b[0;34m:\u001b[0m  \u001b[0;31m# Change this to True as the very last thing you do!\u001b[0m\u001b[0;34m\u001b[0m\u001b[0;34m\u001b[0m\u001b[0m\n",
            "\u001b[0;32m/usr/local/lib/python3.7/dist-packages/sklearn/base.py\u001b[0m in \u001b[0;36mscore\u001b[0;34m(self, X, y, sample_weight)\u001b[0m\n\u001b[1;32m    649\u001b[0m         \u001b[0;32mfrom\u001b[0m \u001b[0;34m.\u001b[0m\u001b[0mmetrics\u001b[0m \u001b[0;32mimport\u001b[0m \u001b[0maccuracy_score\u001b[0m\u001b[0;34m\u001b[0m\u001b[0;34m\u001b[0m\u001b[0m\n\u001b[1;32m    650\u001b[0m \u001b[0;34m\u001b[0m\u001b[0m\n\u001b[0;32m--> 651\u001b[0;31m         \u001b[0;32mreturn\u001b[0m \u001b[0maccuracy_score\u001b[0m\u001b[0;34m(\u001b[0m\u001b[0my\u001b[0m\u001b[0;34m,\u001b[0m \u001b[0mself\u001b[0m\u001b[0;34m.\u001b[0m\u001b[0mpredict\u001b[0m\u001b[0;34m(\u001b[0m\u001b[0mX\u001b[0m\u001b[0;34m)\u001b[0m\u001b[0;34m,\u001b[0m \u001b[0msample_weight\u001b[0m\u001b[0;34m=\u001b[0m\u001b[0msample_weight\u001b[0m\u001b[0;34m)\u001b[0m\u001b[0;34m\u001b[0m\u001b[0;34m\u001b[0m\u001b[0m\n\u001b[0m\u001b[1;32m    652\u001b[0m \u001b[0;34m\u001b[0m\u001b[0m\n\u001b[1;32m    653\u001b[0m     \u001b[0;32mdef\u001b[0m \u001b[0m_more_tags\u001b[0m\u001b[0;34m(\u001b[0m\u001b[0mself\u001b[0m\u001b[0;34m)\u001b[0m\u001b[0;34m:\u001b[0m\u001b[0;34m\u001b[0m\u001b[0;34m\u001b[0m\u001b[0m\n",
            "\u001b[0;32m<ipython-input-26-52c5ce7c7e21>\u001b[0m in \u001b[0;36mpredict\u001b[0;34m(self, X_test)\u001b[0m\n\u001b[1;32m     33\u001b[0m          \u001b[0mneighbors\u001b[0m \u001b[0;34m=\u001b[0m \u001b[0;34m[\u001b[0m\u001b[0;34m]\u001b[0m\u001b[0;34m\u001b[0m\u001b[0;34m\u001b[0m\u001b[0m\n\u001b[1;32m     34\u001b[0m          \u001b[0;32mfor\u001b[0m \u001b[0mx\u001b[0m \u001b[0;32min\u001b[0m \u001b[0mX_test\u001b[0m\u001b[0;34m:\u001b[0m\u001b[0;34m\u001b[0m\u001b[0;34m\u001b[0m\u001b[0m\n\u001b[0;32m---> 35\u001b[0;31m             \u001b[0mdistances\u001b[0m \u001b[0;34m=\u001b[0m \u001b[0mself\u001b[0m\u001b[0;34m.\u001b[0m\u001b[0mdist_metric\u001b[0m\u001b[0;34m(\u001b[0m\u001b[0mx\u001b[0m\u001b[0;34m,\u001b[0m \u001b[0mself\u001b[0m\u001b[0;34m.\u001b[0m\u001b[0mXtrain\u001b[0m\u001b[0;34m)\u001b[0m\u001b[0;34m\u001b[0m\u001b[0;34m\u001b[0m\u001b[0m\n\u001b[0m\u001b[1;32m     36\u001b[0m             \u001b[0my_sorted\u001b[0m \u001b[0;34m=\u001b[0m \u001b[0;34m[\u001b[0m\u001b[0my\u001b[0m \u001b[0;32mfor\u001b[0m \u001b[0m_\u001b[0m\u001b[0;34m,\u001b[0m \u001b[0my\u001b[0m \u001b[0;32min\u001b[0m \u001b[0msorted\u001b[0m\u001b[0;34m(\u001b[0m\u001b[0mzip\u001b[0m\u001b[0;34m(\u001b[0m\u001b[0mdistances\u001b[0m\u001b[0;34m,\u001b[0m \u001b[0mself\u001b[0m\u001b[0;34m.\u001b[0m\u001b[0mytrain\u001b[0m\u001b[0;34m)\u001b[0m\u001b[0;34m)\u001b[0m\u001b[0;34m]\u001b[0m\u001b[0;34m\u001b[0m\u001b[0;34m\u001b[0m\u001b[0m\n\u001b[1;32m     37\u001b[0m             \u001b[0mneighbors\u001b[0m\u001b[0;34m.\u001b[0m\u001b[0mappend\u001b[0m\u001b[0;34m(\u001b[0m\u001b[0my_sorted\u001b[0m\u001b[0;34m[\u001b[0m\u001b[0;34m:\u001b[0m\u001b[0mself\u001b[0m\u001b[0;34m.\u001b[0m\u001b[0mk\u001b[0m\u001b[0;34m]\u001b[0m\u001b[0;34m)\u001b[0m\u001b[0;34m\u001b[0m\u001b[0;34m\u001b[0m\u001b[0m\n",
            "\u001b[0;32m<ipython-input-25-0eb3ca1d9388>\u001b[0m in \u001b[0;36meuclidean\u001b[0;34m(point, data)\u001b[0m\n\u001b[1;32m      1\u001b[0m \u001b[0;32mdef\u001b[0m \u001b[0meuclidean\u001b[0m\u001b[0;34m(\u001b[0m\u001b[0mpoint\u001b[0m\u001b[0;34m,\u001b[0m \u001b[0mdata\u001b[0m\u001b[0;34m)\u001b[0m\u001b[0;34m:\u001b[0m\u001b[0;34m\u001b[0m\u001b[0;34m\u001b[0m\u001b[0m\n\u001b[0;32m----> 2\u001b[0;31m     \u001b[0;32mreturn\u001b[0m \u001b[0mnp\u001b[0m\u001b[0;34m.\u001b[0m\u001b[0msqrt\u001b[0m\u001b[0;34m(\u001b[0m\u001b[0mnp\u001b[0m\u001b[0;34m.\u001b[0m\u001b[0msum\u001b[0m\u001b[0;34m(\u001b[0m\u001b[0;34m(\u001b[0m\u001b[0mpoint\u001b[0m \u001b[0;34m-\u001b[0m \u001b[0mdata\u001b[0m\u001b[0;34m)\u001b[0m\u001b[0;34m**\u001b[0m\u001b[0;36m2\u001b[0m\u001b[0;34m,\u001b[0m \u001b[0maxis\u001b[0m\u001b[0;34m=\u001b[0m\u001b[0;36m1\u001b[0m\u001b[0;34m)\u001b[0m\u001b[0;34m)\u001b[0m\u001b[0;34m\u001b[0m\u001b[0;34m\u001b[0m\u001b[0m\n\u001b[0m",
            "\u001b[0;31mKeyboardInterrupt\u001b[0m: "
          ]
        }
      ],
      "source": [
        "# Evaluate the final model on all the data sets, including the test data. We\n",
        "# only evaluate the test data once, and as the last thing we do. If you train\n",
        "# another model after this, based on the performance on the test data, then your\n",
        "# test data is effectively a validation dataset, and you no longer have a test\n",
        "# dataset. (Or, if you keep your test data set, then your results are biased and\n",
        "# by that unreliable.)\n",
        "print(f\"k-NN model training data accuracy  : {model_knn.score(Xtrain, ytrain)}\")\n",
        "print(f\"k-NN model validation data accuracy: {model_knn.score(Xval, yval)}\")\n",
        "if False:  # Change this to True as the very last thing you do!\n",
        "    print(f\"k-NN model test data accuracy      : \"\n",
        "          f\"{model_knn.score(Xtest, ytest)}\")\n",
        "\n",
        "print(f\"ANN model training data accuracy   : {model_ann.score(Xtrain, ytrain)}\")\n",
        "print(f\"ANN model validation data accuracy : {model_ann.score(Xval, yval)}\")\n",
        "if False:  # Change this to True as the very last thing you do!\n",
        "    print(f\"ANN model test data accuracy       : \"\n",
        "          f\"{model_ann.score(Xtest, ytest)}\")"
      ]
    }
  ],
  "metadata": {
    "colab": {
      "collapsed_sections": [],
      "provenance": [],
      "include_colab_link": true
    },
    "kernelspec": {
      "display_name": "Python 3 (ipykernel)",
      "language": "python",
      "name": "python3"
    },
    "language_info": {
      "codemirror_mode": {
        "name": "ipython",
        "version": 3
      },
      "file_extension": ".py",
      "mimetype": "text/x-python",
      "name": "python",
      "nbconvert_exporter": "python",
      "pygments_lexer": "ipython3",
      "version": "3.9.0"
    }
  },
  "nbformat": 4,
  "nbformat_minor": 0
}